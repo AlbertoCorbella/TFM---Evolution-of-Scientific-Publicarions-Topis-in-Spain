{
 "cells": [
  {
   "cell_type": "markdown",
   "metadata": {},
   "source": [
    "## Importing Required Packages"
   ]
  },
  {
   "cell_type": "code",
   "execution_count": 2,
   "metadata": {},
   "outputs": [],
   "source": [
    "import requests\n",
    "import pandas as pd\n",
    "import dimcli\n",
    "from dimcli.shortcuts import dslquery_json as dslquery\n",
    "from bs4 import BeautifulSoup"
   ]
  },
  {
   "cell_type": "code",
   "execution_count": 5,
   "metadata": {},
   "outputs": [],
   "source": [
    "USERNAME = '*****'\n",
    "PASSWORD = '*****'\n",
    "ENDPOINT = 'app.dimensions.ai' "
   ]
  },
  {
   "cell_type": "code",
   "execution_count": 6,
   "metadata": {},
   "outputs": [
    {
     "name": "stdout",
     "output_type": "stream",
     "text": [
      "DimCli v0.5.8.1 - Succesfully connected to <https://app.dimensions.ai> (method: manual login)\n"
     ]
    }
   ],
   "source": [
    "dimcli.login(username= USERNAME, password=PASSWORD)"
   ]
  },
  {
   "cell_type": "code",
   "execution_count": 7,
   "metadata": {},
   "outputs": [],
   "source": [
    "dsl = dimcli.Dsl()"
   ]
  },
  {
   "cell_type": "markdown",
   "metadata": {},
   "source": [
    "## Exploring Dimensions API"
   ]
  },
  {
   "cell_type": "markdown",
   "metadata": {},
   "source": [
    "### All Spanish publications\n",
    "##### Using Magic Commands available for easy exploration"
   ]
  },
  {
   "cell_type": "code",
   "execution_count": 6,
   "metadata": {},
   "outputs": [
    {
     "name": "stdout",
     "output_type": "stream",
     "text": [
      "Returned Publications: 20 (total = 1019271)\n"
     ]
    },
    {
     "data": {
      "application/json": {
       "_stats": {
        "total_count": 1019271
       },
       "_warnings": [
        "Query is too long or complex. Please see https://docs.dimensions.ai/dsl/faq.html for more information."
       ],
       "publications": [
        {
         "id": "pub.1111169290"
        },
        {
         "id": "pub.1118098014"
        },
        {
         "id": "pub.1121570035"
        },
        {
         "id": "pub.1121116001"
        },
        {
         "id": "pub.1120997194"
        },
        {
         "id": "pub.1121091635"
        },
        {
         "id": "pub.1121553933"
        },
        {
         "id": "pub.1120303629"
        },
        {
         "id": "pub.1120777864"
        },
        {
         "id": "pub.1120957029"
        },
        {
         "id": "pub.1121394926"
        },
        {
         "id": "pub.1120280065"
        },
        {
         "id": "pub.1120696793"
        },
        {
         "id": "pub.1121969144"
        },
        {
         "id": "pub.1121264867"
        },
        {
         "id": "pub.1121610805"
        },
        {
         "id": "pub.1121335763"
        },
        {
         "id": "pub.1121297595"
        },
        {
         "id": "pub.1121967117"
        },
        {
         "id": "pub.1121864022"
        }
       ]
      },
      "text/plain": [
       "<dimcli.Result object #139744283475024. Dict keys: '_stats', '_warnings', 'publications'>"
      ]
     },
     "execution_count": 6,
     "metadata": {
      "application/json": {
       "expanded": false,
       "root": "root"
      }
     },
     "output_type": "execute_result"
    }
   ],
   "source": [
    "%%dsl\n",
    "search publications \n",
    "where  research_orgs.country_name=\"Spain\"\n",
    "and type = \"article\"\n",
    "return publications[id] "
   ]
  },
  {
   "cell_type": "markdown",
   "metadata": {},
   "source": [
    "There is a total of 1,019,271 papers published in Spain in Dimensions database."
   ]
  },
  {
   "cell_type": "markdown",
   "metadata": {},
   "source": [
    "### All Spanish publications in the last 10 years"
   ]
  },
  {
   "cell_type": "code",
   "execution_count": 7,
   "metadata": {},
   "outputs": [
    {
     "name": "stdout",
     "output_type": "stream",
     "text": [
      "Returned Publications: 20 (total = 640669)\n"
     ]
    },
    {
     "data": {
      "application/json": {
       "_stats": {
        "total_count": 640669
       },
       "_warnings": [
        "Query is too long or complex. Please see https://docs.dimensions.ai/dsl/faq.html for more information."
       ],
       "publications": [
        {
         "id": "pub.1117506301"
        },
        {
         "id": "pub.1117603937"
        },
        {
         "id": "pub.1117505850"
        },
        {
         "id": "pub.1120933767"
        },
        {
         "id": "pub.1120933764"
        },
        {
         "id": "pub.1122018894"
        },
        {
         "id": "pub.1117193292"
        },
        {
         "id": "pub.1121017012"
        },
        {
         "id": "pub.1121801826"
        },
        {
         "id": "pub.1117155867"
        },
        {
         "id": "pub.1120938369"
        },
        {
         "id": "pub.1120908992"
        },
        {
         "id": "pub.1113949992"
        },
        {
         "id": "pub.1121334312"
        },
        {
         "id": "pub.1121526585"
        },
        {
         "id": "pub.1121932334"
        },
        {
         "id": "pub.1121932340"
        },
        {
         "id": "pub.1117402233"
        },
        {
         "id": "pub.1120399083"
        },
        {
         "id": "pub.1112177169"
        }
       ]
      },
      "text/plain": [
       "<dimcli.Result object #139744232820128. Dict keys: '_stats', '_warnings', 'publications'>"
      ]
     },
     "execution_count": 7,
     "metadata": {
      "application/json": {
       "expanded": false,
       "root": "root"
      }
     },
     "output_type": "execute_result"
    }
   ],
   "source": [
    "%%dsl\n",
    "search publications \n",
    "where  research_orgs.country_name=\"Spain\"\n",
    "and type = \"article\"\n",
    "and year in [2009:2019] \n",
    "return publications[id] "
   ]
  },
  {
   "cell_type": "markdown",
   "metadata": {},
   "source": [
    "We got 640,669 papers published in the last 10 years in Spain."
   ]
  },
  {
   "cell_type": "markdown",
   "metadata": {},
   "source": [
    "### Getting Top 25 Spanish Institutions by number of publications in the last 10 years"
   ]
  },
  {
   "cell_type": "code",
   "execution_count": 15,
   "metadata": {},
   "outputs": [
    {
     "name": "stdout",
     "output_type": "stream",
     "text": [
      "Returned Research_orgs: 25\n"
     ]
    },
    {
     "data": {
      "application/json": {
       "_stats": {
        "total_count": 640669
       },
       "_warnings": [
        "Query is too long or complex. Please see https://docs.dimensions.ai/dsl/faq.html for more information."
       ],
       "research_orgs": [
        {
         "acronym": "UB",
         "count": 36864,
         "country_name": "Spain",
         "id": "grid.5841.8",
         "name": "University of Barcelona"
        },
        {
         "acronym": "UAB",
         "count": 35016,
         "country_name": "Spain",
         "id": "grid.7080.f",
         "name": "Autonomous University of Barcelona"
        },
        {
         "count": 31684,
         "country_name": "Spain",
         "id": "grid.4795.f",
         "name": "Complutense University of Madrid"
        },
        {
         "acronym": "UV",
         "count": 26951,
         "country_name": "Spain",
         "id": "grid.5338.d",
         "name": "University of Valencia"
        },
        {
         "acronym": "UAM",
         "count": 23576,
         "country_name": "Spain",
         "id": "grid.5515.4",
         "name": "Autonomous University of Madrid"
        },
        {
         "acronym": "UGR",
         "count": 23042,
         "country_name": "Spain",
         "id": "grid.4489.1",
         "name": "University of Granada"
        },
        {
         "acronym": "UPV",
         "count": 21731,
         "country_name": "Spain",
         "id": "grid.11480.3c",
         "name": "University of the Basque Country"
        },
        {
         "count": 21104,
         "country_name": "Spain",
         "id": "grid.413448.e",
         "name": "Institute of Health Carlos III"
        },
        {
         "count": 18441,
         "country_name": "Spain",
         "id": "grid.9224.d",
         "name": "University of Seville"
        },
        {
         "count": 16976,
         "country_name": "Spain",
         "id": "grid.11205.37",
         "name": "University of Zaragoza"
        },
        {
         "acronym": "USC",
         "count": 16952,
         "country_name": "Spain",
         "id": "grid.11794.3a",
         "name": "University of Santiago de Compostela"
        },
        {
         "acronym": "UPV",
         "count": 15043,
         "country_name": "Spain",
         "id": "grid.157927.f",
         "name": "Polytechnic University of Valencia"
        },
        {
         "acronym": "UPC",
         "count": 14739,
         "country_name": "Spain",
         "id": "grid.6835.8",
         "name": "Polytechnic University of Catalonia"
        },
        {
         "acronym": "UPM",
         "count": 14087,
         "country_name": "Spain",
         "id": "grid.5690.a",
         "name": "Technical University of Madrid"
        },
        {
         "count": 13735,
         "country_name": "Spain",
         "id": "grid.10863.3c",
         "name": "University of Oviedo"
        },
        {
         "count": 11971,
         "country_name": "Spain",
         "id": "grid.10586.3a",
         "name": "University of Murcia"
        },
        {
         "count": 11777,
         "country_name": "Spain",
         "id": "grid.410458.c",
         "name": "Hospital Clinic of Barcelona"
        },
        {
         "acronym": "CSIC",
         "count": 11016,
         "country_name": "Spain",
         "id": "grid.4711.3",
         "name": "Spanish National Research Council"
        },
        {
         "acronym": "UMA",
         "count": 10970,
         "country_name": "Spain",
         "id": "grid.10215.37",
         "name": "University of Malaga"
        },
        {
         "acronym": "UPF",
         "count": 10789,
         "country_name": "Spain",
         "id": "grid.5612.0",
         "name": "Pompeu Fabra University"
        },
        {
         "count": 10539,
         "country_name": "Spain",
         "id": "grid.6312.6",
         "name": "University of Vigo"
        },
        {
         "count": 10419,
         "country_name": "Spain",
         "id": "grid.411083.f",
         "name": "Hospital Universitari Vall d'Hebron"
        },
        {
         "count": 10092,
         "country_name": "Spain",
         "id": "grid.11762.33",
         "name": "University of Salamanca"
        },
        {
         "acronym": "ICREA",
         "count": 9767,
         "country_name": "Spain",
         "id": "grid.425902.8",
         "name": "Catalan Institution for Research and Advanced Studies"
        },
        {
         "count": 9541,
         "country_name": "Spain",
         "id": "grid.81821.32",
         "name": "Hospital Universitario La Paz"
        }
       ]
      },
      "text/plain": [
       "<dimcli.Result object #139744223372904. Dict keys: '_stats', '_warnings', 'research_orgs'>"
      ]
     },
     "execution_count": 15,
     "metadata": {
      "application/json": {
       "expanded": false,
       "root": "root"
      }
     },
     "output_type": "execute_result"
    }
   ],
   "source": [
    "%%dsl\n",
    "search publications\n",
    "where type=\"article\"\n",
    "and research_orgs.country_name = \"Spain\"\n",
    "and year in [2009:2019] \n",
    "return research_orgs limit 25"
   ]
  },
  {
   "cell_type": "markdown",
   "metadata": {},
   "source": [
    "#### Converting results from previous query in a pandas dataframe"
   ]
  },
  {
   "cell_type": "code",
   "execution_count": 16,
   "metadata": {},
   "outputs": [
    {
     "data": {
      "text/html": [
       "<div>\n",
       "<style scoped>\n",
       "    .dataframe tbody tr th:only-of-type {\n",
       "        vertical-align: middle;\n",
       "    }\n",
       "\n",
       "    .dataframe tbody tr th {\n",
       "        vertical-align: top;\n",
       "    }\n",
       "\n",
       "    .dataframe thead th {\n",
       "        text-align: right;\n",
       "    }\n",
       "</style>\n",
       "<table border=\"1\" class=\"dataframe\">\n",
       "  <thead>\n",
       "    <tr style=\"text-align: right;\">\n",
       "      <th></th>\n",
       "      <th>acronym</th>\n",
       "      <th>count</th>\n",
       "      <th>country_name</th>\n",
       "      <th>id</th>\n",
       "      <th>name</th>\n",
       "    </tr>\n",
       "  </thead>\n",
       "  <tbody>\n",
       "    <tr>\n",
       "      <th>0</th>\n",
       "      <td>UB</td>\n",
       "      <td>36864</td>\n",
       "      <td>Spain</td>\n",
       "      <td>grid.5841.8</td>\n",
       "      <td>University of Barcelona</td>\n",
       "    </tr>\n",
       "    <tr>\n",
       "      <th>1</th>\n",
       "      <td>UAB</td>\n",
       "      <td>35016</td>\n",
       "      <td>Spain</td>\n",
       "      <td>grid.7080.f</td>\n",
       "      <td>Autonomous University of Barcelona</td>\n",
       "    </tr>\n",
       "    <tr>\n",
       "      <th>2</th>\n",
       "      <td>NaN</td>\n",
       "      <td>31684</td>\n",
       "      <td>Spain</td>\n",
       "      <td>grid.4795.f</td>\n",
       "      <td>Complutense University of Madrid</td>\n",
       "    </tr>\n",
       "    <tr>\n",
       "      <th>3</th>\n",
       "      <td>UV</td>\n",
       "      <td>26951</td>\n",
       "      <td>Spain</td>\n",
       "      <td>grid.5338.d</td>\n",
       "      <td>University of Valencia</td>\n",
       "    </tr>\n",
       "    <tr>\n",
       "      <th>4</th>\n",
       "      <td>UAM</td>\n",
       "      <td>23576</td>\n",
       "      <td>Spain</td>\n",
       "      <td>grid.5515.4</td>\n",
       "      <td>Autonomous University of Madrid</td>\n",
       "    </tr>\n",
       "    <tr>\n",
       "      <th>5</th>\n",
       "      <td>UGR</td>\n",
       "      <td>23042</td>\n",
       "      <td>Spain</td>\n",
       "      <td>grid.4489.1</td>\n",
       "      <td>University of Granada</td>\n",
       "    </tr>\n",
       "    <tr>\n",
       "      <th>6</th>\n",
       "      <td>UPV</td>\n",
       "      <td>21731</td>\n",
       "      <td>Spain</td>\n",
       "      <td>grid.11480.3c</td>\n",
       "      <td>University of the Basque Country</td>\n",
       "    </tr>\n",
       "    <tr>\n",
       "      <th>7</th>\n",
       "      <td>NaN</td>\n",
       "      <td>21104</td>\n",
       "      <td>Spain</td>\n",
       "      <td>grid.413448.e</td>\n",
       "      <td>Institute of Health Carlos III</td>\n",
       "    </tr>\n",
       "    <tr>\n",
       "      <th>8</th>\n",
       "      <td>NaN</td>\n",
       "      <td>18441</td>\n",
       "      <td>Spain</td>\n",
       "      <td>grid.9224.d</td>\n",
       "      <td>University of Seville</td>\n",
       "    </tr>\n",
       "    <tr>\n",
       "      <th>9</th>\n",
       "      <td>NaN</td>\n",
       "      <td>16976</td>\n",
       "      <td>Spain</td>\n",
       "      <td>grid.11205.37</td>\n",
       "      <td>University of Zaragoza</td>\n",
       "    </tr>\n",
       "    <tr>\n",
       "      <th>10</th>\n",
       "      <td>USC</td>\n",
       "      <td>16952</td>\n",
       "      <td>Spain</td>\n",
       "      <td>grid.11794.3a</td>\n",
       "      <td>University of Santiago de Compostela</td>\n",
       "    </tr>\n",
       "    <tr>\n",
       "      <th>11</th>\n",
       "      <td>UPV</td>\n",
       "      <td>15043</td>\n",
       "      <td>Spain</td>\n",
       "      <td>grid.157927.f</td>\n",
       "      <td>Polytechnic University of Valencia</td>\n",
       "    </tr>\n",
       "    <tr>\n",
       "      <th>12</th>\n",
       "      <td>UPC</td>\n",
       "      <td>14739</td>\n",
       "      <td>Spain</td>\n",
       "      <td>grid.6835.8</td>\n",
       "      <td>Polytechnic University of Catalonia</td>\n",
       "    </tr>\n",
       "    <tr>\n",
       "      <th>13</th>\n",
       "      <td>UPM</td>\n",
       "      <td>14087</td>\n",
       "      <td>Spain</td>\n",
       "      <td>grid.5690.a</td>\n",
       "      <td>Technical University of Madrid</td>\n",
       "    </tr>\n",
       "    <tr>\n",
       "      <th>14</th>\n",
       "      <td>NaN</td>\n",
       "      <td>13735</td>\n",
       "      <td>Spain</td>\n",
       "      <td>grid.10863.3c</td>\n",
       "      <td>University of Oviedo</td>\n",
       "    </tr>\n",
       "    <tr>\n",
       "      <th>15</th>\n",
       "      <td>NaN</td>\n",
       "      <td>11971</td>\n",
       "      <td>Spain</td>\n",
       "      <td>grid.10586.3a</td>\n",
       "      <td>University of Murcia</td>\n",
       "    </tr>\n",
       "    <tr>\n",
       "      <th>16</th>\n",
       "      <td>NaN</td>\n",
       "      <td>11777</td>\n",
       "      <td>Spain</td>\n",
       "      <td>grid.410458.c</td>\n",
       "      <td>Hospital Clinic of Barcelona</td>\n",
       "    </tr>\n",
       "    <tr>\n",
       "      <th>17</th>\n",
       "      <td>CSIC</td>\n",
       "      <td>11016</td>\n",
       "      <td>Spain</td>\n",
       "      <td>grid.4711.3</td>\n",
       "      <td>Spanish National Research Council</td>\n",
       "    </tr>\n",
       "    <tr>\n",
       "      <th>18</th>\n",
       "      <td>UMA</td>\n",
       "      <td>10970</td>\n",
       "      <td>Spain</td>\n",
       "      <td>grid.10215.37</td>\n",
       "      <td>University of Malaga</td>\n",
       "    </tr>\n",
       "    <tr>\n",
       "      <th>19</th>\n",
       "      <td>UPF</td>\n",
       "      <td>10789</td>\n",
       "      <td>Spain</td>\n",
       "      <td>grid.5612.0</td>\n",
       "      <td>Pompeu Fabra University</td>\n",
       "    </tr>\n",
       "    <tr>\n",
       "      <th>20</th>\n",
       "      <td>NaN</td>\n",
       "      <td>10539</td>\n",
       "      <td>Spain</td>\n",
       "      <td>grid.6312.6</td>\n",
       "      <td>University of Vigo</td>\n",
       "    </tr>\n",
       "    <tr>\n",
       "      <th>21</th>\n",
       "      <td>NaN</td>\n",
       "      <td>10419</td>\n",
       "      <td>Spain</td>\n",
       "      <td>grid.411083.f</td>\n",
       "      <td>Hospital Universitari Vall d'Hebron</td>\n",
       "    </tr>\n",
       "    <tr>\n",
       "      <th>22</th>\n",
       "      <td>NaN</td>\n",
       "      <td>10092</td>\n",
       "      <td>Spain</td>\n",
       "      <td>grid.11762.33</td>\n",
       "      <td>University of Salamanca</td>\n",
       "    </tr>\n",
       "    <tr>\n",
       "      <th>23</th>\n",
       "      <td>ICREA</td>\n",
       "      <td>9767</td>\n",
       "      <td>Spain</td>\n",
       "      <td>grid.425902.8</td>\n",
       "      <td>Catalan Institution for Research and Advanced ...</td>\n",
       "    </tr>\n",
       "    <tr>\n",
       "      <th>24</th>\n",
       "      <td>NaN</td>\n",
       "      <td>9541</td>\n",
       "      <td>Spain</td>\n",
       "      <td>grid.81821.32</td>\n",
       "      <td>Hospital Universitario La Paz</td>\n",
       "    </tr>\n",
       "  </tbody>\n",
       "</table>\n",
       "</div>"
      ],
      "text/plain": [
       "   acronym  count country_name             id  \\\n",
       "0       UB  36864        Spain    grid.5841.8   \n",
       "1      UAB  35016        Spain    grid.7080.f   \n",
       "2      NaN  31684        Spain    grid.4795.f   \n",
       "3       UV  26951        Spain    grid.5338.d   \n",
       "4      UAM  23576        Spain    grid.5515.4   \n",
       "5      UGR  23042        Spain    grid.4489.1   \n",
       "6      UPV  21731        Spain  grid.11480.3c   \n",
       "7      NaN  21104        Spain  grid.413448.e   \n",
       "8      NaN  18441        Spain    grid.9224.d   \n",
       "9      NaN  16976        Spain  grid.11205.37   \n",
       "10     USC  16952        Spain  grid.11794.3a   \n",
       "11     UPV  15043        Spain  grid.157927.f   \n",
       "12     UPC  14739        Spain    grid.6835.8   \n",
       "13     UPM  14087        Spain    grid.5690.a   \n",
       "14     NaN  13735        Spain  grid.10863.3c   \n",
       "15     NaN  11971        Spain  grid.10586.3a   \n",
       "16     NaN  11777        Spain  grid.410458.c   \n",
       "17    CSIC  11016        Spain    grid.4711.3   \n",
       "18     UMA  10970        Spain  grid.10215.37   \n",
       "19     UPF  10789        Spain    grid.5612.0   \n",
       "20     NaN  10539        Spain    grid.6312.6   \n",
       "21     NaN  10419        Spain  grid.411083.f   \n",
       "22     NaN  10092        Spain  grid.11762.33   \n",
       "23   ICREA   9767        Spain  grid.425902.8   \n",
       "24     NaN   9541        Spain  grid.81821.32   \n",
       "\n",
       "                                                 name  \n",
       "0                             University of Barcelona  \n",
       "1                  Autonomous University of Barcelona  \n",
       "2                    Complutense University of Madrid  \n",
       "3                              University of Valencia  \n",
       "4                     Autonomous University of Madrid  \n",
       "5                               University of Granada  \n",
       "6                    University of the Basque Country  \n",
       "7                      Institute of Health Carlos III  \n",
       "8                               University of Seville  \n",
       "9                              University of Zaragoza  \n",
       "10               University of Santiago de Compostela  \n",
       "11                 Polytechnic University of Valencia  \n",
       "12                Polytechnic University of Catalonia  \n",
       "13                     Technical University of Madrid  \n",
       "14                               University of Oviedo  \n",
       "15                               University of Murcia  \n",
       "16                       Hospital Clinic of Barcelona  \n",
       "17                  Spanish National Research Council  \n",
       "18                               University of Malaga  \n",
       "19                            Pompeu Fabra University  \n",
       "20                                 University of Vigo  \n",
       "21                Hospital Universitari Vall d'Hebron  \n",
       "22                            University of Salamanca  \n",
       "23  Catalan Institution for Research and Advanced ...  \n",
       "24                      Hospital Universitario La Paz  "
      ]
     },
     "execution_count": 16,
     "metadata": {},
     "output_type": "execute_result"
    }
   ],
   "source": [
    "data = _['research_orgs']\n",
    "df_toporgs = pd.DataFrame.from_dict(data)\n",
    "df_toporgs"
   ]
  },
  {
   "cell_type": "markdown",
   "metadata": {},
   "source": [
    "#### Getting the Ids of the Top organizations and creating a list with them"
   ]
  },
  {
   "cell_type": "code",
   "execution_count": 10,
   "metadata": {},
   "outputs": [],
   "source": [
    "list_orgs = df_toporgs['id'].tolist()"
   ]
  },
  {
   "cell_type": "markdown",
   "metadata": {},
   "source": [
    "#### Create functions to get the all the publications Ids published in the last 10 years in the Top 25 Spanish Organizations\n",
    "\n",
    "We use the list previously created with the Ids of the Organizations to iterate over it and get all the publications published from 2009."
   ]
  },
  {
   "cell_type": "code",
   "execution_count": 11,
   "metadata": {},
   "outputs": [],
   "source": [
    "def getpubs(year,list_orgs,limit=1000, skip=0):\n",
    "    data = \"\"\"search publications\n",
    "    where  year in [{}] \n",
    "    and type=\"article\" \n",
    "    and research_orgs.id  in [{}]\n",
    "    return publications[id+year]\n",
    "    limit {} skip {}\n",
    "    \"\"\".format(year,\",\".join([ '\"{}\"'.format(i) for i in list_orgs]),limit,skip)\n",
    "    return data"
   ]
  },
  {
   "cell_type": "code",
   "execution_count": 12,
   "metadata": {},
   "outputs": [],
   "source": [
    "def getallpubsfrominst(year,gridid):\n",
    "    skip = 0\n",
    "    pubs = []\n",
    "    total_pubs = []\n",
    "    \n",
    "    while (skip == 0) or (len(pubs) == 1000):\n",
    "        pubs = dslquery(getpubs(year,list_orgs,skip=skip)).get('publications',[])\n",
    "        total_pubs += pubs\n",
    "        skip += 1000      \n",
    "                            \n",
    "    return total_pubs"
   ]
  },
  {
   "cell_type": "markdown",
   "metadata": {},
   "source": [
    "Dimension's API has a limit to skip for documents of 50,000. Hence we call a function for each year to adapt our results to this limit and store the results in several dataframes."
   ]
  },
  {
   "cell_type": "code",
   "execution_count": 17,
   "metadata": {},
   "outputs": [],
   "source": [
    "pubs2009df = pd.DataFrame(getallpubsfrominst(2009,list_orgs))\n",
    "pubs2010df = pd.DataFrame(getallpubsfrominst(2010,list_orgs))\n",
    "pubs2011df = pd.DataFrame(getallpubsfrominst(2011,list_orgs))\n",
    "pubs2012df = pd.DataFrame(getallpubsfrominst(2012,list_orgs))\n",
    "pubs2013df = pd.DataFrame(getallpubsfrominst(2013,list_orgs))\n",
    "pubs2014df = pd.DataFrame(getallpubsfrominst(2014,list_orgs))\n",
    "pubs2015df = pd.DataFrame(getallpubsfrominst(2015,list_orgs))\n",
    "pubs2016df = pd.DataFrame(getallpubsfrominst(2016,list_orgs))\n",
    "pubs2017df = pd.DataFrame(getallpubsfrominst(2017,list_orgs))\n",
    "pubs2018df = pd.DataFrame(getallpubsfrominst(2018,list_orgs))\n",
    "pubs2019df = pd.DataFrame(getallpubsfrominst(2019,list_orgs))"
   ]
  },
  {
   "cell_type": "markdown",
   "metadata": {},
   "source": [
    "Next step, we get rid of the first characters in the id of the publication so we can further loop thru this Id's when scrapping Dimension's web."
   ]
  },
  {
   "cell_type": "code",
   "execution_count": 18,
   "metadata": {},
   "outputs": [],
   "source": [
    "df_list = [pubs2009df,pubs2010df,pubs2011df,pubs2012df,pubs2013df,pubs2014df,pubs2015df,pubs2016df,pubs2017df,pubs2018df,pubs2019df]"
   ]
  },
  {
   "cell_type": "code",
   "execution_count": 19,
   "metadata": {},
   "outputs": [],
   "source": [
    "for i in df_list:\n",
    "    i['id'] = i['id'].str[4:]"
   ]
  },
  {
   "cell_type": "code",
   "execution_count": 20,
   "metadata": {},
   "outputs": [
    {
     "data": {
      "text/html": [
       "<div>\n",
       "<style scoped>\n",
       "    .dataframe tbody tr th:only-of-type {\n",
       "        vertical-align: middle;\n",
       "    }\n",
       "\n",
       "    .dataframe tbody tr th {\n",
       "        vertical-align: top;\n",
       "    }\n",
       "\n",
       "    .dataframe thead th {\n",
       "        text-align: right;\n",
       "    }\n",
       "</style>\n",
       "<table border=\"1\" class=\"dataframe\">\n",
       "  <thead>\n",
       "    <tr style=\"text-align: right;\">\n",
       "      <th></th>\n",
       "      <th>id</th>\n",
       "      <th>year</th>\n",
       "    </tr>\n",
       "  </thead>\n",
       "  <tbody>\n",
       "    <tr>\n",
       "      <th>0</th>\n",
       "      <td>1072986379</td>\n",
       "      <td>2015</td>\n",
       "    </tr>\n",
       "    <tr>\n",
       "      <th>1</th>\n",
       "      <td>1058239462</td>\n",
       "      <td>2015</td>\n",
       "    </tr>\n",
       "    <tr>\n",
       "      <th>2</th>\n",
       "      <td>1055110640</td>\n",
       "      <td>2015</td>\n",
       "    </tr>\n",
       "    <tr>\n",
       "      <th>3</th>\n",
       "      <td>1055109576</td>\n",
       "      <td>2015</td>\n",
       "    </tr>\n",
       "    <tr>\n",
       "      <th>4</th>\n",
       "      <td>1042186661</td>\n",
       "      <td>2015</td>\n",
       "    </tr>\n",
       "  </tbody>\n",
       "</table>\n",
       "</div>"
      ],
      "text/plain": [
       "           id  year\n",
       "0  1072986379  2015\n",
       "1  1058239462  2015\n",
       "2  1055110640  2015\n",
       "3  1055109576  2015\n",
       "4  1042186661  2015"
      ]
     },
     "execution_count": 20,
     "metadata": {},
     "output_type": "execute_result"
    }
   ],
   "source": [
    "pubs2015df.head()"
   ]
  },
  {
   "cell_type": "markdown",
   "metadata": {},
   "source": [
    "Now we create a list with the publications ids and convert the Ids to int, as this is what we need to insert in our web scraper. For this we create a function to do same operation over all dataframes."
   ]
  },
  {
   "cell_type": "code",
   "execution_count": 8,
   "metadata": {},
   "outputs": [],
   "source": [
    "def prepare_list_of_pubid (df):\n",
    "    publs_list = df['id'].tolist()\n",
    "    for i in range(0, len(publs_list)): \n",
    "        publs_list[i] = int(publs_list[i]) \n",
    "    return publs_list"
   ]
  },
  {
   "cell_type": "code",
   "execution_count": 22,
   "metadata": {},
   "outputs": [],
   "source": [
    "test_function = prepare_list_of_pubid(pubs2009df)"
   ]
  },
  {
   "cell_type": "markdown",
   "metadata": {},
   "source": [
    "Lets check the output of the list and lenght"
   ]
  },
  {
   "cell_type": "code",
   "execution_count": 23,
   "metadata": {},
   "outputs": [
    {
     "data": {
      "text/plain": [
       "1005992287"
      ]
     },
     "execution_count": 23,
     "metadata": {},
     "output_type": "execute_result"
    }
   ],
   "source": [
    "test_function[0]"
   ]
  },
  {
   "cell_type": "code",
   "execution_count": 24,
   "metadata": {},
   "outputs": [
    {
     "data": {
      "text/plain": [
       "22308"
      ]
     },
     "execution_count": 24,
     "metadata": {},
     "output_type": "execute_result"
    }
   ],
   "source": [
    "len(test_function)"
   ]
  },
  {
   "cell_type": "markdown",
   "metadata": {},
   "source": [
    "## Exploring Dimension's web"
   ]
  },
  {
   "cell_type": "code",
   "execution_count": 9,
   "metadata": {},
   "outputs": [
    {
     "name": "stdout",
     "output_type": "stream",
     "text": [
      "https://app.dimensions.ai/details/publication/pub.1111348256\n"
     ]
    }
   ],
   "source": [
    "## Connecting test to dimensions web\n",
    "url = \"https://app.dimensions.ai/details/publication/pub.1111348256\"\n",
    "response = requests.get(url)\n",
    "print(url)"
   ]
  },
  {
   "cell_type": "code",
   "execution_count": 64,
   "metadata": {},
   "outputs": [],
   "source": [
    "soup = BeautifulSoup(response.text)"
   ]
  },
  {
   "cell_type": "markdown",
   "metadata": {},
   "source": [
    "### Getting publications abstract from url"
   ]
  },
  {
   "cell_type": "code",
   "execution_count": 65,
   "metadata": {},
   "outputs": [
    {
     "name": "stdout",
     "output_type": "stream",
     "text": [
      "[<meta content=\"Permafrost warming has the potential to amplify global climate change, because when frozen sediments thaw it unlocks soil organic carbon. Yet to date, no globally consistent assessment of permafrost temperature change has been compiled. Here we use a global data set of permafrost temperature time series from the Global Terrestrial Network for Permafrost to evaluate temperature change across permafrost regions for the period since the International Polar Year (2007-2009). During the reference decade between 2007 and 2016, ground temperature near the depth of zero annual amplitude in the continuous permafrost zone increased by 0.39 ± 0.15 °C. Over the same period, discontinuous permafrost warmed by 0.20 ± 0.10 °C. Permafrost in mountains warmed by 0.19 ± 0.05 °C and in Antarctica by 0.37 ± 0.10 °C. Globally, permafrost temperature increased by 0.29 ± 0.12 °C. The observed trend follows the Arctic amplification of air temperature increase in the Northern Hemisphere. In the discontinuous zone, however, ground warming occurred due to increased snow thickness while air temperature remained statistically unchanged.\" property=\"og:description\"/>]\n"
     ]
    }
   ],
   "source": [
    "abstract = soup.find_all('meta', property='og:description')\n",
    "print(abstract)"
   ]
  },
  {
   "cell_type": "markdown",
   "metadata": {},
   "source": [
    "### Writing our web scrapper in a function to loop thru our Publications Ids and get their abstracts"
   ]
  },
  {
   "cell_type": "code",
   "execution_count": 10,
   "metadata": {},
   "outputs": [],
   "source": [
    "def get_abstract (publications_list):\n",
    "    pub_list=[]\n",
    "    for i in publications_list:\n",
    "        url = (\"https://app.dimensions.ai/details/publication/pub.{}\".format(i))\n",
    "        r = requests.get(url)\n",
    "        soup = BeautifulSoup(r.content)\n",
    "        abstract = soup.find_all('meta', property='og:description')\n",
    "        pub_list.append([i,abstract])\n",
    "    return pub_list "
   ]
  },
  {
   "cell_type": "markdown",
   "metadata": {},
   "source": [
    "#### Test our function"
   ]
  },
  {
   "cell_type": "code",
   "execution_count": 11,
   "metadata": {},
   "outputs": [],
   "source": [
    "test_list = [1111348256, 1111569301, 1111917329, 1113874979, 1112214268]"
   ]
  },
  {
   "cell_type": "code",
   "execution_count": 12,
   "metadata": {},
   "outputs": [],
   "source": [
    "test_result = get_abstract(test_list)"
   ]
  },
  {
   "cell_type": "code",
   "execution_count": 13,
   "metadata": {},
   "outputs": [
    {
     "data": {
      "text/plain": [
       "[[1111348256,\n",
       "  [<meta content=\"Permafrost warming has the potential to amplify global climate change, because when frozen sediments thaw it unlocks soil organic carbon. Yet to date, no globally consistent assessment of permafrost temperature change has been compiled. Here we use a global data set of permafrost temperature time series from the Global Terrestrial Network for Permafrost to evaluate temperature change across permafrost regions for the period since the International Polar Year (2007-2009). During the reference decade between 2007 and 2016, ground temperature near the depth of zero annual amplitude in the continuous permafrost zone increased by 0.39 ± 0.15 °C. Over the same period, discontinuous permafrost warmed by 0.20 ± 0.10 °C. Permafrost in mountains warmed by 0.19 ± 0.05 °C and in Antarctica by 0.37 ± 0.10 °C. Globally, permafrost temperature increased by 0.29 ± 0.12 °C. The observed trend follows the Arctic amplification of air temperature increase in the Northern Hemisphere. In the discontinuous zone, however, ground warming occurred due to increased snow thickness while air temperature remained statistically unchanged.\" property=\"og:description\"/>]],\n",
       " [1111569301,\n",
       "  [<meta content=\"Choroidal neovascularization (CNV) is a major cause of visual impairment in patients suffering from wet age-related macular degeneration (AMD), particularly when refractory to intraocular anti-VEGF injections. Here we report that treatment with the oral mineralocorticoid receptor (MR) antagonist spironolactone reduces signs of CNV in patients refractory to anti-VEGF treatment. In animal models of wet AMD, pharmacological inhibition of the MR pathway or endothelial-specific deletion of MR inhibits CNV through VEGF-independent mechanisms, in part through upregulation of the extracellular matrix protein decorin. Intravitreal injections of spironolactone-loaded microspheres and systemic delivery lead to similar reductions in CNV. Together, our work suggests MR inhibition as a novel therapeutic option for wet AMD patients unresponsive to anti-VEGF drugs.\" property=\"og:description\"/>]],\n",
       " [1111917329,\n",
       "  [<meta content=\"BACKGROUND: Age has been traditionally considered a risk factor for mortality in elderly patients admitted to intensive care units. The aim of this prospective, observational, multicenter cohort study is to determine the risk factors for mortality in elderly and very elderly critically ill patients with sepsis. RESULTS: A total of 1490 patients with ≥ 65 years of age were included in the study; most of them 1231 (82.6%) had a cardiovascular failure. The mean age (± SD) was 74.5 (± 5.6) years, and 876 (58.8%) were male. The patients were divided into two cohorts: (1) elderly: 65-79 years and (2) very elderly: ≥ 80 years. The overall hospital mortality was 48.8% (n = 727) and was significantly higher in very elderly compared to elderly patients (54.2% vs. 47.4%; p = 0.02). Factors independently associated with mortality were APACHE II score of the disease, patient location at sepsis diagnosis, development of acute kidney injury, and thrombocytopenia in the group of elderly patients. On the other hand, in the group of very elderly patients, predictors of hospital mortality were age, APACHE II score, and prompt adherence of the resuscitation bundle. CONCLUSION: This prospective multicenter study found that patients aged 80 or over had higher hospital mortality compared to patients between 65 and 79 years. Age was found to be an independent risk factor only in the very elderly group, and prompt therapy provided within the first 6 h of resuscitation was associated with a reduction in hospital mortality in the very elderly patients.\" property=\"og:description\"/>]],\n",
       " [1113874979,\n",
       "  [<meta content=\"Polyglutamine (polyQ) tracts are regions of low sequence complexity frequently found in transcription factors. Tract length often correlates with transcriptional activity and expansion beyond specific thresholds in certain human proteins is the cause of polyQ disorders. To study the structural basis of the association between tract length, transcriptional activity and disease, we addressed how the conformation of the polyQ tract of the androgen receptor, associated with spinobulbar muscular atrophy (SBMA), depends on its length. Here we report that this sequence folds into a helical structure stabilized by unconventional hydrogen bonds between glutamine side chains and main chain carbonyl groups, and that its helicity directly correlates with tract length. These unusual hydrogen bonds are bifurcate with the conventional hydrogen bonds stabilizing α-helices. Our findings suggest a plausible rationale for the association between polyQ tract length and androgen receptor transcriptional activity and have implications for establishing the mechanistic basis of SBMA.\" property=\"og:description\"/>]],\n",
       " [1112214268,\n",
       "  [<meta content=\"Background: The aim of this trial was to investigate the effects of different inclusion levels of a partially defatted black soldier fly (BSF, Hermetia illucens L.) larva meal on the growth performance, nutrient digestibility, blood profile, gut morphology and histological features of piglets. A total of 48 newly weaned piglets were individually weighed (initial body weight (IBW): 6.1 ± 0.16 kg) and randomly allocated to 3 dietary treatments (4 boxes as replicates/treatment and 4 animals/box). BSF larva meal was included at increasing levels (0% [BSF0], 5% [BSF5] and 10% [BSF10]) in isonitrogenous and isoenergetic diets formulated for two feeding phases: I (from d 1 to d 23) and II (from d 24 to d 61). The weight gain (WG), average daily gain (ADG), average daily feed intake (ADFI) and feed conversion ratio (FCR) were calculated for each feeding phase and for the whole trial. The haematochemical parameters and nutrient digestibility of the piglets were also evaluated. A total of 3 piglets per box were slaughtered on d 61 and the slaughtered piglets were submitted to morphometric investigations and histopathological examinations. Results: No overall significant differences were observed for growth performance (P &gt; 0.05), except for the ADFI of phase II, which showed a linear response to increasing BSF meal levels (P &lt; 0.05, maximum for the BSF10 group). Dietary BSF meal inclusion did not significantly influence the blood profile, except as far as monocytes and neutrophils are concerned, and these showed a linear and quadratic response, respectively, to increasing BSF meal levels (P &lt; 0.05, maximum for the BSF10 and BSF5 groups, respectively). On the other hand, the nutrient digestibility, gut morphology and histological features were not affected by dietary BSF meal inclusion (P &gt; 0.05). Conclusions: The obtained results show that a partially defatted BSF larva meal can be used as a feed ingredient in diets for weaned piglets without negatively affecting their growth performance, nutrient digestibility, blood profile, gut morphology or histological features.\" property=\"og:description\"/>]]]"
      ]
     },
     "execution_count": 13,
     "metadata": {},
     "output_type": "execute_result"
    }
   ],
   "source": [
    "test_result"
   ]
  },
  {
   "cell_type": "markdown",
   "metadata": {},
   "source": [
    "#### Run for all our list of Publications Ids in 2019 and store results in dataframe"
   ]
  },
  {
   "cell_type": "code",
   "execution_count": 31,
   "metadata": {},
   "outputs": [],
   "source": [
    "publs_abstracts_2019 = get_abstract(publs_list_2019)"
   ]
  },
  {
   "cell_type": "markdown",
   "metadata": {},
   "source": [
    "#### Creating pandas dataframe from function results and saving it to a csv file"
   ]
  },
  {
   "cell_type": "code",
   "execution_count": 32,
   "metadata": {},
   "outputs": [],
   "source": [
    "df_publ_abstracts_2019 = pd.DataFrame(publs_abstracts_2019) "
   ]
  },
  {
   "cell_type": "code",
   "execution_count": 33,
   "metadata": {},
   "outputs": [
    {
     "data": {
      "text/plain": [
       "(42520, 2)"
      ]
     },
     "execution_count": 33,
     "metadata": {},
     "output_type": "execute_result"
    }
   ],
   "source": [
    "df_publ_abstracts_2019.shape"
   ]
  },
  {
   "cell_type": "code",
   "execution_count": 34,
   "metadata": {},
   "outputs": [
    {
     "data": {
      "text/html": [
       "<div>\n",
       "<style scoped>\n",
       "    .dataframe tbody tr th:only-of-type {\n",
       "        vertical-align: middle;\n",
       "    }\n",
       "\n",
       "    .dataframe tbody tr th {\n",
       "        vertical-align: top;\n",
       "    }\n",
       "\n",
       "    .dataframe thead th {\n",
       "        text-align: right;\n",
       "    }\n",
       "</style>\n",
       "<table border=\"1\" class=\"dataframe\">\n",
       "  <thead>\n",
       "    <tr style=\"text-align: right;\">\n",
       "      <th></th>\n",
       "      <th>0</th>\n",
       "      <th>1</th>\n",
       "    </tr>\n",
       "  </thead>\n",
       "  <tbody>\n",
       "    <tr>\n",
       "      <th>0</th>\n",
       "      <td>1117506301</td>\n",
       "      <td>[&lt;meta content=\"Four types of calcined MCM-41 ...</td>\n",
       "    </tr>\n",
       "    <tr>\n",
       "      <th>1</th>\n",
       "      <td>1117603937</td>\n",
       "      <td>[&lt;meta content=\"First magnetic characterizatio...</td>\n",
       "    </tr>\n",
       "    <tr>\n",
       "      <th>2</th>\n",
       "      <td>1117505850</td>\n",
       "      <td>[&lt;meta content=\"Metal oxide nanoparticles of d...</td>\n",
       "    </tr>\n",
       "    <tr>\n",
       "      <th>3</th>\n",
       "      <td>1120933764</td>\n",
       "      <td>[&lt;meta content=\"The objective of this study is...</td>\n",
       "    </tr>\n",
       "    <tr>\n",
       "      <th>4</th>\n",
       "      <td>1117193292</td>\n",
       "      <td>[&lt;meta content=\"A long-term multi-parameter sk...</td>\n",
       "    </tr>\n",
       "    <tr>\n",
       "      <th>5</th>\n",
       "      <td>1121801826</td>\n",
       "      <td>[&lt;meta content=\"The objective of this study wa...</td>\n",
       "    </tr>\n",
       "    <tr>\n",
       "      <th>6</th>\n",
       "      <td>1121017012</td>\n",
       "      <td>[&lt;meta content=\"Research has shown that athlet...</td>\n",
       "    </tr>\n",
       "    <tr>\n",
       "      <th>7</th>\n",
       "      <td>1117155867</td>\n",
       "      <td>[&lt;meta content=\"Due to the anatomical continui...</td>\n",
       "    </tr>\n",
       "    <tr>\n",
       "      <th>8</th>\n",
       "      <td>1120908992</td>\n",
       "      <td>[&lt;meta content=\"Focused electron beam induced ...</td>\n",
       "    </tr>\n",
       "    <tr>\n",
       "      <th>9</th>\n",
       "      <td>1113949992</td>\n",
       "      <td>[&lt;meta content=\"This paper aims at describing ...</td>\n",
       "    </tr>\n",
       "  </tbody>\n",
       "</table>\n",
       "</div>"
      ],
      "text/plain": [
       "            0                                                  1\n",
       "0  1117506301  [<meta content=\"Four types of calcined MCM-41 ...\n",
       "1  1117603937  [<meta content=\"First magnetic characterizatio...\n",
       "2  1117505850  [<meta content=\"Metal oxide nanoparticles of d...\n",
       "3  1120933764  [<meta content=\"The objective of this study is...\n",
       "4  1117193292  [<meta content=\"A long-term multi-parameter sk...\n",
       "5  1121801826  [<meta content=\"The objective of this study wa...\n",
       "6  1121017012  [<meta content=\"Research has shown that athlet...\n",
       "7  1117155867  [<meta content=\"Due to the anatomical continui...\n",
       "8  1120908992  [<meta content=\"Focused electron beam induced ...\n",
       "9  1113949992  [<meta content=\"This paper aims at describing ..."
      ]
     },
     "execution_count": 34,
     "metadata": {},
     "output_type": "execute_result"
    }
   ],
   "source": [
    "df_publ_abstracts_2019.head(10)"
   ]
  },
  {
   "cell_type": "code",
   "execution_count": 35,
   "metadata": {},
   "outputs": [],
   "source": [
    "## naming data frame columns\n",
    "df_publ_abstracts_2019.columns = ['Publication Id','Publication Abstract']"
   ]
  },
  {
   "cell_type": "code",
   "execution_count": 36,
   "metadata": {},
   "outputs": [
    {
     "data": {
      "text/html": [
       "<div>\n",
       "<style scoped>\n",
       "    .dataframe tbody tr th:only-of-type {\n",
       "        vertical-align: middle;\n",
       "    }\n",
       "\n",
       "    .dataframe tbody tr th {\n",
       "        vertical-align: top;\n",
       "    }\n",
       "\n",
       "    .dataframe thead th {\n",
       "        text-align: right;\n",
       "    }\n",
       "</style>\n",
       "<table border=\"1\" class=\"dataframe\">\n",
       "  <thead>\n",
       "    <tr style=\"text-align: right;\">\n",
       "      <th></th>\n",
       "      <th>Publication Id</th>\n",
       "      <th>Publication Abstract</th>\n",
       "    </tr>\n",
       "  </thead>\n",
       "  <tbody>\n",
       "    <tr>\n",
       "      <th>0</th>\n",
       "      <td>1117506301</td>\n",
       "      <td>[&lt;meta content=\"Four types of calcined MCM-41 ...</td>\n",
       "    </tr>\n",
       "    <tr>\n",
       "      <th>1</th>\n",
       "      <td>1117603937</td>\n",
       "      <td>[&lt;meta content=\"First magnetic characterizatio...</td>\n",
       "    </tr>\n",
       "    <tr>\n",
       "      <th>2</th>\n",
       "      <td>1117505850</td>\n",
       "      <td>[&lt;meta content=\"Metal oxide nanoparticles of d...</td>\n",
       "    </tr>\n",
       "    <tr>\n",
       "      <th>3</th>\n",
       "      <td>1120933764</td>\n",
       "      <td>[&lt;meta content=\"The objective of this study is...</td>\n",
       "    </tr>\n",
       "    <tr>\n",
       "      <th>4</th>\n",
       "      <td>1117193292</td>\n",
       "      <td>[&lt;meta content=\"A long-term multi-parameter sk...</td>\n",
       "    </tr>\n",
       "  </tbody>\n",
       "</table>\n",
       "</div>"
      ],
      "text/plain": [
       "   Publication Id                               Publication Abstract\n",
       "0      1117506301  [<meta content=\"Four types of calcined MCM-41 ...\n",
       "1      1117603937  [<meta content=\"First magnetic characterizatio...\n",
       "2      1117505850  [<meta content=\"Metal oxide nanoparticles of d...\n",
       "3      1120933764  [<meta content=\"The objective of this study is...\n",
       "4      1117193292  [<meta content=\"A long-term multi-parameter sk..."
      ]
     },
     "execution_count": 36,
     "metadata": {},
     "output_type": "execute_result"
    }
   ],
   "source": [
    "df_publ_abstracts_2019.head()"
   ]
  },
  {
   "cell_type": "code",
   "execution_count": 44,
   "metadata": {},
   "outputs": [],
   "source": [
    "df_publ_abstracts_2019.to_csv(\"./papers_abstracts.csv\", sep=',',index=False)"
   ]
  },
  {
   "cell_type": "markdown",
   "metadata": {},
   "source": [
    "#### Create funtion for easily run for rest of years and store results in dataframes"
   ]
  },
  {
   "cell_type": "markdown",
   "metadata": {},
   "source": [
    "We will use two functions previously created ( prepare_list_of_pubid and get_abstract functions) to do get the needed data and carry out the required transformations"
   ]
  },
  {
   "cell_type": "code",
   "execution_count": 18,
   "metadata": {},
   "outputs": [],
   "source": [
    "def publ_abstracts_to_df (df):\n",
    "    pubid_list = prepare_list_of_pubid(df)\n",
    "    publs_abstracts = get_abstract(pubid_list)\n",
    "    df_abstracts = pd.DataFrame(publs_abstracts) \n",
    "    df_abstracts.columns = ['Publication Id','Publication Abstract']\n",
    "    df_abstracts.to_csv(\"./papers_abstracts.csv\", sep=',', mode='a', index=False )"
   ]
  },
  {
   "cell_type": "markdown",
   "metadata": {},
   "source": [
    "We run the function for all years (below we would execute the function for 2009 papers) , this process takes several hours to complete."
   ]
  },
  {
   "cell_type": "code",
   "execution_count": null,
   "metadata": {},
   "outputs": [],
   "source": [
    "publ_abstracts_to_df(pubs2009df)"
   ]
  },
  {
   "cell_type": "markdown",
   "metadata": {},
   "source": [
    "### Final preparation and cleansing of our dataset"
   ]
  },
  {
   "cell_type": "markdown",
   "metadata": {},
   "source": [
    "First we need to merge the resulted csv file containing the abstracts with the dataframes for each year to get the publication year of the paper in order to create a timeline of the evolution in the topics."
   ]
  },
  {
   "cell_type": "markdown",
   "metadata": {},
   "source": [
    "We first concatenate all dataframes containing the paper id and the year of publication."
   ]
  },
  {
   "cell_type": "code",
   "execution_count": null,
   "metadata": {},
   "outputs": [],
   "source": [
    "alldfs = [pubs2009df,pubs2010df,pubs2011df,pubs2012df,pubs2013df,pubs2014df,pubs2015df\n",
    "          ,pubs2016df,pubs2017df,pubs2018df,pubs2019df] \n",
    "new_df = pd.concat(alldfs)"
   ]
  },
  {
   "cell_type": "markdown",
   "metadata": {},
   "source": [
    "Now we load our csv file containing the abstracts into a pandas dataframe and merge it to the previous dataframe created."
   ]
  },
  {
   "cell_type": "code",
   "execution_count": null,
   "metadata": {},
   "outputs": [],
   "source": [
    "df_abstracts = pd.read_csv(\"./papers_abstracts.csv\")"
   ]
  },
  {
   "cell_type": "code",
   "execution_count": null,
   "metadata": {},
   "outputs": [],
   "source": [
    "df_abstract_merged = pd.merge(df_abstracts.astype(str), new_df.astype(str)\n",
    "                          , left_on = 'Publication Id', right_on = 'id', how = 'left')"
   ]
  },
  {
   "cell_type": "markdown",
   "metadata": {},
   "source": [
    "Dropping id column created."
   ]
  },
  {
   "cell_type": "code",
   "execution_count": null,
   "metadata": {},
   "outputs": [],
   "source": [
    "df_abstracts_years = df_abstract_merged.drop(columns=['id'])"
   ]
  },
  {
   "cell_type": "markdown",
   "metadata": {},
   "source": [
    "Removing characters at beginning and end of abstract element coming with html tag ( i.e brackets, '<meta content='..)"
   ]
  },
  {
   "cell_type": "code",
   "execution_count": null,
   "metadata": {},
   "outputs": [],
   "source": [
    "df_abstracts_years['Publication Abstract'] = df_abstracts_years['Publication Abstract'].str[16:-30]"
   ]
  },
  {
   "cell_type": "markdown",
   "metadata": {},
   "source": [
    "Now we are going to detect the language of the abstract to keep only the ones written in english for our model. We will do this thru the package 'langdetect'. \n",
    "Use the command line to install the package like this: \n",
    "\n",
    "*pip install langdetect*"
   ]
  },
  {
   "cell_type": "code",
   "execution_count": null,
   "metadata": {},
   "outputs": [],
   "source": [
    "from langdetect import detect"
   ]
  },
  {
   "cell_type": "markdown",
   "metadata": {},
   "source": [
    "This package will help us to identify the language of the abstract, so we will create a new column with the language detected and then we will filtered the dataframe to keep only the papers with the abstract written in english."
   ]
  },
  {
   "cell_type": "code",
   "execution_count": null,
   "metadata": {},
   "outputs": [],
   "source": [
    "df_abstracts_years['language'] = [detect(i) for i in df_abstracts_years['Publication Abstract']]"
   ]
  },
  {
   "cell_type": "code",
   "execution_count": null,
   "metadata": {},
   "outputs": [],
   "source": [
    "english = df_abstracts_years[df_abstracts_years['language']=='en']"
   ]
  },
  {
   "cell_type": "code",
   "execution_count": null,
   "metadata": {},
   "outputs": [],
   "source": [
    "df_abstr_year_paper = english.drop(columns=['language'])"
   ]
  },
  {
   "cell_type": "markdown",
   "metadata": {},
   "source": [
    "Our dataset is ready , we copy it to a csv file"
   ]
  },
  {
   "cell_type": "code",
   "execution_count": null,
   "metadata": {},
   "outputs": [],
   "source": [
    "df_abstr_year_paper.to_csv(\"./papers_abstracts_published_year.csv\", sep=',', index=False )"
   ]
  }
 ],
 "metadata": {
  "kernelspec": {
   "display_name": "Python 3",
   "language": "python",
   "name": "python3"
  },
  "language_info": {
   "codemirror_mode": {
    "name": "ipython",
    "version": 3
   },
   "file_extension": ".py",
   "mimetype": "text/x-python",
   "name": "python",
   "nbconvert_exporter": "python",
   "pygments_lexer": "ipython3",
   "version": "3.7.3"
  }
 },
 "nbformat": 4,
 "nbformat_minor": 2
}
