{
 "cells": [
  {
   "cell_type": "markdown",
   "metadata": {},
   "source": [
    "### Importing Packages and loading data"
   ]
  },
  {
   "cell_type": "code",
   "execution_count": 1,
   "metadata": {},
   "outputs": [],
   "source": [
    "from nltk import word_tokenize\n",
    "from nltk.corpus import stopwords\n",
    "import re\n",
    "import gensim\n",
    "from gensim.models import CoherenceModel, LdaModel, LsiModel\n",
    "import matplotlib.pyplot as plt\n",
    "import pandas as pd\n",
    "###!python -m spacy download en_core_web_md\n",
    "import spacy\n",
    "nlp = spacy.load('/home/dsc/anaconda3/lib/python3.7/site-packages/en_core_web_md/en_core_web_md-2.2.0')"
   ]
  },
  {
   "cell_type": "code",
   "execution_count": 2,
   "metadata": {},
   "outputs": [],
   "source": [
    "df_abstracts_year  = pd.read_csv(\"./papers_abstracts_year_published.csv\")"
   ]
  },
  {
   "cell_type": "code",
   "execution_count": 3,
   "metadata": {},
   "outputs": [
    {
     "data": {
      "text/plain": [
       "(319821, 3)"
      ]
     },
     "execution_count": 3,
     "metadata": {},
     "output_type": "execute_result"
    }
   ],
   "source": [
    "df_abstracts_year.shape"
   ]
  },
  {
   "cell_type": "code",
   "execution_count": 6,
   "metadata": {},
   "outputs": [
    {
     "data": {
      "text/html": [
       "<div>\n",
       "<style scoped>\n",
       "    .dataframe tbody tr th:only-of-type {\n",
       "        vertical-align: middle;\n",
       "    }\n",
       "\n",
       "    .dataframe tbody tr th {\n",
       "        vertical-align: top;\n",
       "    }\n",
       "\n",
       "    .dataframe thead th {\n",
       "        text-align: right;\n",
       "    }\n",
       "</style>\n",
       "<table border=\"1\" class=\"dataframe\">\n",
       "  <thead>\n",
       "    <tr style=\"text-align: right;\">\n",
       "      <th></th>\n",
       "      <th>Publication Id</th>\n",
       "      <th>Publication Abstract</th>\n",
       "      <th>year</th>\n",
       "    </tr>\n",
       "  </thead>\n",
       "  <tbody>\n",
       "    <tr>\n",
       "      <th>0</th>\n",
       "      <td>1117506301</td>\n",
       "      <td>Four types of calcined MCM-41 silica nanoparti...</td>\n",
       "      <td>2019.0</td>\n",
       "    </tr>\n",
       "    <tr>\n",
       "      <th>1</th>\n",
       "      <td>1117603937</td>\n",
       "      <td>First magnetic characterization of a recently ...</td>\n",
       "      <td>2019.0</td>\n",
       "    </tr>\n",
       "    <tr>\n",
       "      <th>2</th>\n",
       "      <td>1117505850</td>\n",
       "      <td>Metal oxide nanoparticles of different nature ...</td>\n",
       "      <td>2019.0</td>\n",
       "    </tr>\n",
       "    <tr>\n",
       "      <th>3</th>\n",
       "      <td>1120933764</td>\n",
       "      <td>The objective of this study is to identify bot...</td>\n",
       "      <td>2019.0</td>\n",
       "    </tr>\n",
       "    <tr>\n",
       "      <th>4</th>\n",
       "      <td>1117193292</td>\n",
       "      <td>A long-term multi-parameter skill assessment o...</td>\n",
       "      <td>2019.0</td>\n",
       "    </tr>\n",
       "  </tbody>\n",
       "</table>\n",
       "</div>"
      ],
      "text/plain": [
       "   Publication Id                               Publication Abstract    year\n",
       "0      1117506301  Four types of calcined MCM-41 silica nanoparti...  2019.0\n",
       "1      1117603937  First magnetic characterization of a recently ...  2019.0\n",
       "2      1117505850  Metal oxide nanoparticles of different nature ...  2019.0\n",
       "3      1120933764  The objective of this study is to identify bot...  2019.0\n",
       "4      1117193292  A long-term multi-parameter skill assessment o...  2019.0"
      ]
     },
     "execution_count": 6,
     "metadata": {},
     "output_type": "execute_result"
    }
   ],
   "source": [
    "df_abstracts_year.head()"
   ]
  },
  {
   "cell_type": "code",
   "execution_count": 9,
   "metadata": {},
   "outputs": [
    {
     "data": {
      "text/html": [
       "<div>\n",
       "<style scoped>\n",
       "    .dataframe tbody tr th:only-of-type {\n",
       "        vertical-align: middle;\n",
       "    }\n",
       "\n",
       "    .dataframe tbody tr th {\n",
       "        vertical-align: top;\n",
       "    }\n",
       "\n",
       "    .dataframe thead th {\n",
       "        text-align: right;\n",
       "    }\n",
       "</style>\n",
       "<table border=\"1\" class=\"dataframe\">\n",
       "  <thead>\n",
       "    <tr style=\"text-align: right;\">\n",
       "      <th></th>\n",
       "      <th>Publication Id</th>\n",
       "      <th>Publication Abstract</th>\n",
       "    </tr>\n",
       "    <tr>\n",
       "      <th>year</th>\n",
       "      <th></th>\n",
       "      <th></th>\n",
       "    </tr>\n",
       "  </thead>\n",
       "  <tbody>\n",
       "    <tr>\n",
       "      <th>2009.0</th>\n",
       "      <td>19550</td>\n",
       "      <td>19550</td>\n",
       "    </tr>\n",
       "    <tr>\n",
       "      <th>2010.0</th>\n",
       "      <td>21340</td>\n",
       "      <td>21340</td>\n",
       "    </tr>\n",
       "    <tr>\n",
       "      <th>2011.0</th>\n",
       "      <td>23914</td>\n",
       "      <td>23914</td>\n",
       "    </tr>\n",
       "    <tr>\n",
       "      <th>2012.0</th>\n",
       "      <td>26431</td>\n",
       "      <td>26431</td>\n",
       "    </tr>\n",
       "    <tr>\n",
       "      <th>2013.0</th>\n",
       "      <td>28527</td>\n",
       "      <td>28527</td>\n",
       "    </tr>\n",
       "    <tr>\n",
       "      <th>2014.0</th>\n",
       "      <td>30378</td>\n",
       "      <td>30378</td>\n",
       "    </tr>\n",
       "    <tr>\n",
       "      <th>2015.0</th>\n",
       "      <td>31308</td>\n",
       "      <td>31308</td>\n",
       "    </tr>\n",
       "    <tr>\n",
       "      <th>2016.0</th>\n",
       "      <td>32082</td>\n",
       "      <td>32082</td>\n",
       "    </tr>\n",
       "    <tr>\n",
       "      <th>2017.0</th>\n",
       "      <td>33286</td>\n",
       "      <td>33286</td>\n",
       "    </tr>\n",
       "    <tr>\n",
       "      <th>2018.0</th>\n",
       "      <td>36491</td>\n",
       "      <td>36491</td>\n",
       "    </tr>\n",
       "    <tr>\n",
       "      <th>2019.0</th>\n",
       "      <td>36188</td>\n",
       "      <td>36188</td>\n",
       "    </tr>\n",
       "  </tbody>\n",
       "</table>\n",
       "</div>"
      ],
      "text/plain": [
       "        Publication Id  Publication Abstract\n",
       "year                                        \n",
       "2009.0           19550                 19550\n",
       "2010.0           21340                 21340\n",
       "2011.0           23914                 23914\n",
       "2012.0           26431                 26431\n",
       "2013.0           28527                 28527\n",
       "2014.0           30378                 30378\n",
       "2015.0           31308                 31308\n",
       "2016.0           32082                 32082\n",
       "2017.0           33286                 33286\n",
       "2018.0           36491                 36491\n",
       "2019.0           36188                 36188"
      ]
     },
     "execution_count": 9,
     "metadata": {},
     "output_type": "execute_result"
    }
   ],
   "source": [
    "df_abstracts_year.groupby('year').count()"
   ]
  },
  {
   "cell_type": "markdown",
   "metadata": {},
   "source": [
    "## Data Preprocessing"
   ]
  },
  {
   "cell_type": "markdown",
   "metadata": {},
   "source": [
    "We set up a custom blacklist of words to be removed from the algorithm."
   ]
  },
  {
   "cell_type": "code",
   "execution_count": 11,
   "metadata": {},
   "outputs": [],
   "source": [
    "blacklist = ['http','objective','method','introduction','conclusion','result','xmlns'\n",
    "             ,'paper','study','reference','background','perform','analysis','analyze','italic','xlink'] "
   ]
  },
  {
   "cell_type": "markdown",
   "metadata": {},
   "source": [
    "Now we can enrich the stopwords provided by ntlk with the additional ones included in our blacklist"
   ]
  },
  {
   "cell_type": "code",
   "execution_count": 12,
   "metadata": {},
   "outputs": [],
   "source": [
    "stop = set(stopwords.words('english'))\n",
    "\n",
    "additional_stopwords=set(blacklist)\n",
    "\n",
    "stopwords = stop.union(additional_stopwords)"
   ]
  },
  {
   "cell_type": "markdown",
   "metadata": {},
   "source": [
    "We now create a function to clean our abstracts, removing non alpha numeric characters,removing digits, duplicates.."
   ]
  },
  {
   "cell_type": "code",
   "execution_count": 13,
   "metadata": {},
   "outputs": [],
   "source": [
    "def cleaner(word):\n",
    "    word = re.sub(r'((http|https)\\:\\/\\/)?[a-zA-Z0-9\\.\\/\\?\\:@\\-_=#]+\\.([a-zA-Z]){2,6}([a-zA-Z0-9\\.\\&\\/\\?\\:@\\-_=#])*', '', word, flags=re.MULTILINE)\n",
    "    word = re.sub(r'(?::|;|=)(?:-)?(?:\\)|\\(|D|P)', \"\", word)\n",
    "    word = re.sub(r'\\#\\.', '', word)\n",
    "    word = re.sub(r'\\n', '', word)\n",
    "    word = re.sub(r',', '', word)\n",
    "    word = re.sub(r'\\-', ' ', word)\n",
    "    word = re.sub(r'\\.{3}', ' ', word)\n",
    "    word = re.sub('[^a-zA-Z]', ' ', word)\n",
    "    list_word_clean = []\n",
    "    for w1 in word.split(\" \"):\n",
    "        if  w1.lower() not in stopwords:\n",
    "            list_word_clean.append(w1.lower())\n",
    "\n",
    "    bigram_list = bigram[list_word_clean]\n",
    "    out_text = lemmatization(\" \".join(bigram_list))\n",
    "    return out_text"
   ]
  },
  {
   "cell_type": "markdown",
   "metadata": {},
   "source": [
    "We now create a function to keep only nouns, so we remove verbs, adverbs, adjctives. This will help us to identify more meaninful topics in our abstracts."
   ]
  },
  {
   "cell_type": "code",
   "execution_count": 14,
   "metadata": {},
   "outputs": [],
   "source": [
    "def lemmatization(texts, allowed_postags=['NOUN']):\n",
    "    texts_out = [ token.text for token in nlp(texts) if token.pos_ in \n",
    "                 allowed_postags and token.text not in blacklist and len(token.text)>2]\n",
    "    return texts_out"
   ]
  },
  {
   "cell_type": "markdown",
   "metadata": {},
   "source": [
    "We need to convert our Publication Abstract dataframe column to a list to perform text transformations required for the model."
   ]
  },
  {
   "cell_type": "code",
   "execution_count": 16,
   "metadata": {},
   "outputs": [],
   "source": [
    "abstract_list = df_abstracts_year['Publication Abstract'].tolist()"
   ]
  },
  {
   "cell_type": "markdown",
   "metadata": {},
   "source": [
    "We now look for bigrams in our data, this are pair of words that together would be more meaningful for the model, an example is Machine Learning"
   ]
  },
  {
   "cell_type": "code",
   "execution_count": 17,
   "metadata": {},
   "outputs": [
    {
     "name": "stdout",
     "output_type": "stream",
     "text": [
      "CPU times: user 21min 40s, sys: 180 ms, total: 21min 40s\n",
      "Wall time: 21min 41s\n"
     ]
    }
   ],
   "source": [
    "%%time\n",
    "bigram = gensim.models.Phrases(abstract_list)"
   ]
  },
  {
   "cell_type": "markdown",
   "metadata": {},
   "source": [
    "Lets test our cleaner function."
   ]
  },
  {
   "cell_type": "code",
   "execution_count": 19,
   "metadata": {},
   "outputs": [
    {
     "data": {
      "text/plain": [
       "['prevalence',\n",
       " 'severity',\n",
       " 'caries',\n",
       " 'year',\n",
       " 'schoolchildren',\n",
       " 'risk',\n",
       " 'factors',\n",
       " 'methods',\n",
       " 'cross',\n",
       " 'sample',\n",
       " 'schoolchildren',\n",
       " 'examination',\n",
       " 'information',\n",
       " 'health',\n",
       " 'habits',\n",
       " 'hygiene',\n",
       " 'logistic',\n",
       " 'regression',\n",
       " 'model',\n",
       " 'caries',\n",
       " 'variables',\n",
       " 'age',\n",
       " 'group',\n",
       " 'findings',\n",
       " 'years',\n",
       " 'teeth',\n",
       " 'index',\n",
       " 'dentition',\n",
       " 'prevalence',\n",
       " 'year',\n",
       " 'group',\n",
       " 'individuals',\n",
       " 'teeth',\n",
       " 'values',\n",
       " 'gingival',\n",
       " 'increase',\n",
       " 'environment',\n",
       " 'risk',\n",
       " 'factor',\n",
       " 'year',\n",
       " 'group',\n",
       " 'caries',\n",
       " 'risk',\n",
       " 'brushing',\n",
       " 'day',\n",
       " 'individuals',\n",
       " 'clinics',\n",
       " 'toothbrush',\n",
       " 'caries',\n",
       " 'risk',\n",
       " 'conclusions',\n",
       " 'risk',\n",
       " 'factors',\n",
       " 'caries',\n",
       " 'differences',\n",
       " 'year',\n",
       " 'evidence',\n",
       " 'caries',\n",
       " 'year',\n",
       " 'group',\n",
       " 'frequency',\n",
       " 'toothbrush',\n",
       " 'time',\n",
       " 'visit',\n",
       " 'dentist',\n",
       " 'type',\n",
       " 'dental',\n",
       " 'care',\n",
       " 'association',\n",
       " 'dental',\n",
       " 'caries',\n",
       " 'prevalence',\n",
       " 'year',\n",
       " 'spite',\n",
       " 'improvement',\n",
       " 'hygiene',\n",
       " 'age']"
      ]
     },
     "execution_count": 19,
     "metadata": {},
     "output_type": "execute_result"
    }
   ],
   "source": [
    "cleaner(abstract_list[1000])"
   ]
  },
  {
   "cell_type": "code",
   "execution_count": 20,
   "metadata": {},
   "outputs": [
    {
     "data": {
      "text/plain": [
       "319821"
      ]
     },
     "execution_count": 20,
     "metadata": {},
     "output_type": "execute_result"
    }
   ],
   "source": [
    "len(abstract_list)"
   ]
  },
  {
   "cell_type": "code",
   "execution_count": 21,
   "metadata": {},
   "outputs": [
    {
     "name": "stdout",
     "output_type": "stream",
     "text": [
      "CPU times: user 3h 24min 29s, sys: 13.5 s, total: 3h 24min 43s\n",
      "Wall time: 3h 20min 52s\n"
     ]
    },
    {
     "data": {
      "text/plain": [
       "[['types',\n",
       "  'silica',\n",
       "  'nanoparticles',\n",
       "  'dyes',\n",
       "  'ensembles',\n",
       "  'nanoparticles',\n",
       "  'rhodamine',\n",
       "  'poly',\n",
       "  'ethylene',\n",
       "  'glycol',\n",
       "  'derivatives',\n",
       "  'ester',\n",
       "  'groups',\n",
       "  'nanoparticles',\n",
       "  'self',\n",
       "  'derivatives',\n",
       "  'ester',\n",
       "  'moieties',\n",
       "  'absence',\n",
       "  'esterase',\n",
       "  'enzyme',\n",
       "  'cargo',\n",
       "  'release',\n",
       "  'nanoparticles',\n",
       "  'release',\n",
       "  'formation',\n",
       "  'surface',\n",
       "  'nanoparticles',\n",
       "  'delivery',\n",
       "  'presence',\n",
       "  'esterase',\n",
       "  'enzyme',\n",
       "  'delivery',\n",
       "  'rate',\n",
       "  'character',\n",
       "  'shell',\n",
       "  'ethylene',\n",
       "  'glycol',\n",
       "  'derivatives',\n",
       "  'access',\n",
       "  'esterase',\n",
       "  'ester',\n",
       "  'moieties',\n",
       "  'cargo',\n",
       "  'release',\n",
       "  'hand',\n",
       "  'presence',\n",
       "  'esterase',\n",
       "  'enzyme',\n",
       "  'access',\n",
       "  'ester',\n",
       "  'groups',\n",
       "  'rate',\n",
       "  'cargo',\n",
       "  'release'],\n",
       " ['characterization',\n",
       "  'generation',\n",
       "  'carbide',\n",
       "  'steels',\n",
       "  'stability',\n",
       "  'temperatures',\n",
       "  'ray',\n",
       "  'diffraction',\n",
       "  'measurements',\n",
       "  'morphologies',\n",
       "  'type',\n",
       "  'film',\n",
       "  'type',\n",
       "  'proportion',\n",
       "  'chemical',\n",
       "  'composition',\n",
       "  'treatment',\n",
       "  'inhibition',\n",
       "  'transformation',\n",
       "  'temperature',\n",
       "  'microstructures',\n",
       "  'proportion',\n",
       "  'film',\n",
       "  'type',\n",
       "  'state',\n",
       "  'room',\n",
       "  'temperature',\n",
       "  'behaviors',\n",
       "  'temperatures',\n",
       "  'samples',\n",
       "  'proportion',\n",
       "  'features',\n",
       "  'irreversibility',\n",
       "  'temperature',\n",
       "  'evolution',\n",
       "  'behaviors',\n",
       "  'structures',\n",
       "  'proximity',\n",
       "  'effect'],\n",
       " ['metal',\n",
       "  'oxide',\n",
       "  'nanoparticles',\n",
       "  'nature',\n",
       "  'fields',\n",
       "  'therapeutics',\n",
       "  'remediation',\n",
       "  'others',\n",
       "  'surface',\n",
       "  'modification',\n",
       "  'nanoparticles',\n",
       "  'interest',\n",
       "  'bring',\n",
       "  'functions',\n",
       "  'synthesis',\n",
       "  'nanoparticles',\n",
       "  'geometries',\n",
       "  'prolate',\n",
       "  'alkyl',\n",
       "  'chains',\n",
       "  'order',\n",
       "  'dye',\n",
       "  'adsorption',\n",
       "  'photo',\n",
       "  'degradation',\n",
       "  'model',\n",
       "  'dye',\n",
       "  'lubricant',\n",
       "  'additives',\n",
       "  'performance',\n",
       "  'base',\n",
       "  'lubricant',\n",
       "  'oils',\n",
       "  'alkyl',\n",
       "  'nanoparticles',\n",
       "  'stability',\n",
       "  'improvement',\n",
       "  'friction',\n",
       "  'nanoparticles',\n",
       "  'adsorption',\n",
       "  'kinetics',\n",
       "  'ones',\n",
       "  'order',\n",
       "  'trend',\n",
       "  'adsorption',\n",
       "  'efficiency',\n",
       "  'synthesis',\n",
       "  'surface',\n",
       "  'modification',\n",
       "  'physic',\n",
       "  'nanoparticles',\n",
       "  'applications',\n",
       "  'removal'],\n",
       " ['variables',\n",
       "  'advance',\n",
       "  'business',\n",
       "  'failure',\n",
       "  'sample',\n",
       "  'companies',\n",
       "  'years',\n",
       "  'contribution',\n",
       "  'testing',\n",
       "  'results',\n",
       "  'techniques',\n",
       "  'estimating',\n",
       "  'equations',\n",
       "  'technique',\n",
       "  'decision',\n",
       "  'tree',\n",
       "  'technique',\n",
       "  'intelligence',\n",
       "  'results',\n",
       "  'factors',\n",
       "  'liquidity',\n",
       "  'indebtedness',\n",
       "  'profitability',\n",
       "  'ones',\n",
       "  'prediction',\n",
       "  'companies',\n",
       "  'ones',\n",
       "  'peculiarities',\n",
       "  'country',\n",
       "  'importance',\n",
       "  'structure'],\n",
       " ['term',\n",
       "  'parameter',\n",
       "  'dynamics',\n",
       "  'applications',\n",
       "  'radar',\n",
       "  'frequency',\n",
       "  'radar',\n",
       "  'network',\n",
       "  'wave',\n",
       "  'estimations',\n",
       "  'sites',\n",
       "  'radar',\n",
       "  'software',\n",
       "  'observations',\n",
       "  'buoys',\n",
       "  'periods',\n",
       "  'accuracy',\n",
       "  'assessment',\n",
       "  'wave',\n",
       "  'height',\n",
       "  'agreement',\n",
       "  'correlation',\n",
       "  'root',\n",
       "  'errors',\n",
       "  'overestimation',\n",
       "  'radar',\n",
       "  'estimations',\n",
       "  'contributions',\n",
       "  'spectra',\n",
       "  'performance',\n",
       "  'mono',\n",
       "  'frequency',\n",
       "  'radar',\n",
       "  'sea',\n",
       "  'states',\n",
       "  'wintertime',\n",
       "  'quality',\n",
       "  'availability',\n",
       "  'radar',\n",
       "  'data',\n",
       "  'summer',\n",
       "  'conditions',\n",
       "  'works',\n",
       "  'case',\n",
       "  'centroid',\n",
       "  'wave',\n",
       "  'period',\n",
       "  'performance',\n",
       "  'years',\n",
       "  'values',\n",
       "  'range',\n",
       "  'accuracy',\n",
       "  'sectors',\n",
       "  'values',\n",
       "  'tendency',\n",
       "  'wave',\n",
       "  'direction',\n",
       "  'perpendicular',\n",
       "  'coast',\n",
       "  'data',\n",
       "  'relationship',\n",
       "  'oscillation',\n",
       "  'wave',\n",
       "  'estimations',\n",
       "  'connection',\n",
       "  'wave',\n",
       "  'period',\n",
       "  'index',\n",
       "  'system',\n",
       "  'nao',\n",
       "  'conditions',\n",
       "  'order',\n",
       "  'radar',\n",
       "  'accuracy',\n",
       "  'phase',\n",
       "  'differences',\n",
       "  'parameters',\n",
       "  'accuracy',\n",
       "  'swings',\n",
       "  'index',\n",
       "  'radar',\n",
       "  'wave',\n",
       "  'estimations',\n",
       "  'monitoring',\n",
       "  'range',\n",
       "  'sea',\n",
       "  'states'],\n",
       " ['effect',\n",
       "  'kinesio',\n",
       "  'balance',\n",
       "  'exercises',\n",
       "  'parameters',\n",
       "  'control',\n",
       "  'balance',\n",
       "  'balance',\n",
       "  'flexibility',\n",
       "  'amateur',\n",
       "  'soccer',\n",
       "  'players',\n",
       "  'age',\n",
       "  'years',\n",
       "  'groups',\n",
       "  'intervention',\n",
       "  'period',\n",
       "  'weeks',\n",
       "  'star',\n",
       "  'excursion',\n",
       "  'touch',\n",
       "  'test',\n",
       "  'baseline',\n",
       "  'weeks',\n",
       "  'treatment',\n",
       "  'mid',\n",
       "  'intervention',\n",
       "  'post',\n",
       "  'improvement',\n",
       "  'treatment',\n",
       "  'treatment',\n",
       "  'groups',\n",
       "  'treatment',\n",
       "  'differences',\n",
       "  'time',\n",
       "  'point',\n",
       "  'groups',\n",
       "  'correction',\n",
       "  'technique',\n",
       "  'balance',\n",
       "  'variables',\n",
       "  'none',\n",
       "  'techniques',\n",
       "  'effect',\n",
       "  'abbreviation',\n",
       "  'balance',\n",
       "  'placebo',\n",
       "  'touch',\n",
       "  'test'],\n",
       " ['research',\n",
       "  'athletes',\n",
       "  'attitudes',\n",
       "  'use',\n",
       "  'performance',\n",
       "  'substances',\n",
       "  'predictors',\n",
       "  'intentions',\n",
       "  'substances',\n",
       "  'predictors',\n",
       "  'doping',\n",
       "  'behaviours',\n",
       "  'role',\n",
       "  'attitudes',\n",
       "  'intentions',\n",
       "  'research',\n",
       "  'change',\n",
       "  'attitudes',\n",
       "  'intentions',\n",
       "  'differences',\n",
       "  'doping',\n",
       "  'attitude',\n",
       "  'intentions',\n",
       "  'participants',\n",
       "  'message',\n",
       "  'favour',\n",
       "  'use',\n",
       "  'substances',\n",
       "  'steroids',\n",
       "  'erythropoietin',\n",
       "  'addition',\n",
       "  'participants',\n",
       "  'attitudes',\n",
       "  'intentions',\n",
       "  'legalisation',\n",
       "  'proposal',\n",
       "  'results',\n",
       "  'participants',\n",
       "  'legalisation',\n",
       "  'message',\n",
       "  'attitudes',\n",
       "  'proposal',\n",
       "  'participants',\n",
       "  'legalisation',\n",
       "  'message',\n",
       "  'relationship',\n",
       "  'individuals',\n",
       "  'attitudes',\n",
       "  'intentions',\n",
       "  'participants',\n",
       "  'attitude',\n",
       "  'intention',\n",
       "  'correspondence',\n",
       "  'participants'],\n",
       " ['continuity',\n",
       "  'uterine',\n",
       "  'cavity',\n",
       "  'cervix',\n",
       "  'exploitation',\n",
       "  'material',\n",
       "  'pap',\n",
       "  'sampling',\n",
       "  'methods',\n",
       "  'opportunity',\n",
       "  'signs',\n",
       "  'disease',\n",
       "  'material',\n",
       "  'tract',\n",
       "  'research',\n",
       "  'findings',\n",
       "  'perspective',\n",
       "  'detection',\n",
       "  'cancer',\n",
       "  'questions',\n",
       "  'order',\n",
       "  'implementation',\n",
       "  'technologies',\n",
       "  'screening',\n",
       "  'setting',\n",
       "  'perspectives',\n",
       "  'cancer',\n",
       "  'biomarkers',\n",
       "  'sampling',\n",
       "  'methods',\n",
       "  'focus',\n",
       "  'health',\n",
       "  'screening',\n",
       "  'criteria',\n",
       "  'gaps',\n",
       "  'knowledge'],\n",
       " ['electron',\n",
       "  'beam',\n",
       "  'technique',\n",
       "  'terms',\n",
       "  'resolution',\n",
       "  'capability',\n",
       "  'growth',\n",
       "  'nanostructures',\n",
       "  'limitations',\n",
       "  'control',\n",
       "  'dimensions',\n",
       "  'objects',\n",
       "  'substrates',\n",
       "  'work',\n",
       "  'overcome',\n",
       "  'limitations',\n",
       "  'metal',\n",
       "  'structures',\n",
       "  'surface',\n",
       "  'substrates',\n",
       "  'metal',\n",
       "  'structures',\n",
       "  'charge',\n",
       "  'dissipation',\n",
       "  'application',\n",
       "  'fields',\n",
       "  'fields',\n",
       "  'dimensions',\n",
       "  'nanostructures',\n",
       "  'electron',\n",
       "  'beam',\n",
       "  'electrons',\n",
       "  'experiments',\n",
       "  'diameter',\n",
       "  'nanowires',\n",
       "  'application',\n",
       "  'voltages',\n",
       "  'metal',\n",
       "  'microstructures',\n",
       "  'growth',\n",
       "  'diameters',\n",
       "  'effects',\n",
       "  'fields',\n",
       "  'change',\n",
       "  'beam',\n",
       "  'focus',\n",
       "  'action',\n",
       "  'electrons',\n",
       "  'beam',\n",
       "  'defocus',\n",
       "  'situ',\n",
       "  'modulation',\n",
       "  'diameter',\n",
       "  'structures',\n",
       "  'growth'],\n",
       " ['context',\n",
       "  'gridlock',\n",
       "  'issues',\n",
       "  'climate',\n",
       "  'role',\n",
       "  'countries',\n",
       "  'problems',\n",
       "  'answer',\n",
       "  'framework',\n",
       "  'fact',\n",
       "  'countries',\n",
       "  'areas',\n",
       "  'issues',\n",
       "  'climate',\n",
       "  'change',\n",
       "  'solution',\n",
       "  'power',\n",
       "  'change',\n",
       "  'advantage',\n",
       "  'decline',\n",
       "  'role',\n",
       "  'governance']]"
      ]
     },
     "execution_count": 21,
     "metadata": {},
     "output_type": "execute_result"
    }
   ],
   "source": [
    "%%time\n",
    "processed_abstract = list(map(cleaner,abstract_list))\n",
    "processed_abstract[:10]"
   ]
  },
  {
   "cell_type": "markdown",
   "metadata": {},
   "source": [
    "Now we create the dictionary and corpus for our model."
   ]
  },
  {
   "cell_type": "code",
   "execution_count": 22,
   "metadata": {},
   "outputs": [],
   "source": [
    "dictionary = gensim.corpora.Dictionary(processed_abstract)\n",
    "dictionary.compactify()\n",
    "# Filter extremes\n",
    "dictionary.filter_extremes(no_below=2, no_above=0.97, keep_n=None)\n",
    "dictionary.compactify()\n",
    "\n",
    "corpus = [dictionary.doc2bow(text) for text in processed_abstract]"
   ]
  },
  {
   "cell_type": "markdown",
   "metadata": {},
   "source": [
    "## Creating our model"
   ]
  },
  {
   "cell_type": "markdown",
   "metadata": {},
   "source": [
    "#### LDA model"
   ]
  },
  {
   "cell_type": "markdown",
   "metadata": {},
   "source": [
    "For LDA we need to define a number of topics, we will start with 10 topics."
   ]
  },
  {
   "cell_type": "code",
   "execution_count": 23,
   "metadata": {},
   "outputs": [],
   "source": [
    "ldamodel_10 = gensim.models.LdaMulticore(corpus=corpus,\n",
    "                                         num_topics=10, \n",
    "                                         id2word=dictionary, \n",
    "                                         passes=2,\n",
    "                                         workers=2)"
   ]
  },
  {
   "cell_type": "markdown",
   "metadata": {},
   "source": [
    "Creating a function to display the main topics."
   ]
  },
  {
   "cell_type": "code",
   "execution_count": 24,
   "metadata": {},
   "outputs": [],
   "source": [
    "def display_topics(model, model_type=\"lda\"):\n",
    "    for topic_idx, topic in enumerate(model.print_topics( num_words=20)):\n",
    "        print (\"Topic %d:\" % (topic_idx))\n",
    "        if model_type== \"hdp\":\n",
    "            print (\" \".join(re.findall( r'\\*(.[^\\*-S]+).?', topic[1])), \"\\n\")\n",
    "        else:\n",
    "            print (\" \".join(re.findall( r'\\\"(.[^\"]+).?', topic[1])), \"\\n\")"
   ]
  },
  {
   "cell_type": "code",
   "execution_count": 25,
   "metadata": {},
   "outputs": [
    {
     "name": "stdout",
     "output_type": "stream",
     "text": [
      "Topic 0:\n",
      "species water areas climate results area data soil populations diversity distribution conditions patterns sites variability region change changes population period \n",
      "\n",
      "Topic 1:\n",
      "brain results activity effects memory test differences effect muscle changes motor time pain subjects neurons stress exercise response age function \n",
      "\n",
      "Topic 2:\n",
      "levels weight body results risk age samples diet obesity children blood resistance groups methods women food population intake strains studies \n",
      "\n",
      "Topic 3:\n",
      "properties surface temperature results energy structure materials phase reaction model electron state formation nanoparticles effect field density measurements process material \n",
      "\n",
      "Topic 4:\n",
      "patients treatment risk years disease methods results cancer cases months conclusions group age therapy diagnosis mortality patient survival surgery rate \n",
      "\n",
      "Topic 5:\n",
      "research students results information knowledge article process development training studies language review group learning data education work literature approach order \n",
      "\n",
      "Topic 6:\n",
      "model data system results time models systems performance energy order approach problem power methods network number algorithm information parameters case \n",
      "\n",
      "Topic 7:\n",
      "cells cell expression protein gene genes activity role proteins levels results mice response activation receptor tissue cancer effects mechanisms development \n",
      "\n",
      "Topic 8:\n",
      "health results countries factors women quality care life sample variables risk data years level impact model relationship age people population \n",
      "\n",
      "Topic 9:\n",
      "water samples compounds concentration concentrations production content results conditions products treatment plant process activity extraction effect plants acid soil oil \n",
      "\n"
     ]
    }
   ],
   "source": [
    "display_topics(ldamodel_10)"
   ]
  },
  {
   "cell_type": "markdown",
   "metadata": {},
   "source": [
    "#### LSI Model"
   ]
  },
  {
   "cell_type": "markdown",
   "metadata": {},
   "source": [
    "This model learns latent topics by performing a matrix decomposition (SVD) on the term-document matrix. We need also to select a number of topics. We will select also 10 as test."
   ]
  },
  {
   "cell_type": "code",
   "execution_count": 26,
   "metadata": {},
   "outputs": [],
   "source": [
    "lsimodel_10 = LsiModel(corpus=corpus, num_topics=10, id2word=dictionary)"
   ]
  },
  {
   "cell_type": "code",
   "execution_count": 27,
   "metadata": {},
   "outputs": [
    {
     "name": "stdout",
     "output_type": "stream",
     "text": [
      "Topic 0:\n",
      "patients results treatment risk years methods data time levels model age cell group disease cells studies factors conclusions response months \n",
      "\n",
      "Topic 1:\n",
      "patients results model data time system species cells water cell conditions effect effects models energy process performance activity order properties \n",
      "\n",
      "Topic 2:\n",
      "cells cell expression protein data model gene cancer levels genes activity results tumor time mice years role risk activation response \n",
      "\n",
      "Topic 3:\n",
      "risk model patients age years women health factors children system studies cancer levels energy population water group systems temperature par \n",
      "\n",
      "Topic 4:\n",
      "species model water data risk cells cell soil models treatment samples cancer conditions plant levels temperature activity effect effects system \n",
      "\n",
      "Topic 5:\n",
      "species treatment model data risk results models time gene expression activity group energy effect patients system genes properties par distribution \n",
      "\n",
      "Topic 6:\n",
      "risk model data water results par temperature species information soil methods health factors effect research system surface conditions quality expression \n",
      "\n",
      "Topic 7:\n",
      "par treatment model care risk system water cell models cells time effects unit levels species energy group response systems samples \n",
      "\n",
      "Topic 8:\n",
      "par treatment risk water model care levels cell cells patients effects expression unit cancer energy system time group activity effect \n",
      "\n",
      "Topic 9:\n",
      "treatment levels expression results data cell cells cancer species protein par water gene patients activity genes model therapy risk studies \n",
      "\n"
     ]
    }
   ],
   "source": [
    "display_topics(lsimodel_10)  # Showing the topics"
   ]
  },
  {
   "cell_type": "markdown",
   "metadata": {},
   "source": [
    "Difficult to get meaningful topics from here, words are repeated across several topics. This could occur as we might have selected a high number of topics."
   ]
  },
  {
   "cell_type": "markdown",
   "metadata": {},
   "source": [
    "### Creating a graph to evaluate results"
   ]
  },
  {
   "cell_type": "markdown",
   "metadata": {},
   "source": [
    "Let's now try to find the best number of topics for our LDA and LSI models.\n",
    "\n",
    "For this we are going to use a function to display a graph that will help us to identify the best number of topics based on the coherence model"
   ]
  },
  {
   "cell_type": "code",
   "execution_count": 28,
   "metadata": {},
   "outputs": [],
   "source": [
    "def evaluation_graph(dictionary, corpus, texts, limit, model):\n",
    "    c_v = []\n",
    "    lm_list = []\n",
    "    for num_topics in range(1, limit):\n",
    "        if model == 'lsi':\n",
    "            lm = LsiModel(corpus=corpus, num_topics=num_topics, id2word=dictionary)\n",
    "        else:\n",
    "            lm = gensim.models.LdaMulticore(corpus=corpus, num_topics=num_topics, id2word=dictionary, passes=2, workers=2)\n",
    "        lm_list.append(lm)\n",
    "        cm = CoherenceModel(model=lm, texts=texts, dictionary=dictionary, coherence='c_v')\n",
    "        c_v.append(cm.get_coherence())\n",
    "        \n",
    "    # Show graph\n",
    "    x = range(1, limit)\n",
    "    plt.plot(x, c_v)\n",
    "    plt.xlabel(\"Number_topics\")\n",
    "    plt.ylabel(\"Coherence_score\")\n",
    "    plt.legend((\"c_v\"), loc='best')\n",
    "    plt.show()\n",
    "    \n",
    "    return lm_list, c_v"
   ]
  },
  {
   "cell_type": "markdown",
   "metadata": {},
   "source": [
    "Let's run our evaluation model graph to try to identify the best number of topics for our LSI and LDA models. This can take a long time to run."
   ]
  },
  {
   "cell_type": "code",
   "execution_count": 30,
   "metadata": {},
   "outputs": [
    {
     "data": {
      "image/png": "[encoded data removed]",
      "text/plain": [
       "<Figure size 432x288 with 1 Axes>"
      ]
     },
     "metadata": {
      "needs_background": "light"
     },
     "output_type": "display_data"
    },
    {
     "name": "stdout",
     "output_type": "stream",
     "text": [
      "CPU times: user 42min 4s, sys: 3min 7s, total: 45min 11s\n",
      "Wall time: 31min 3s\n"
     ]
    }
   ],
   "source": [
    "%%time\n",
    "lmlist, c_v = evaluation_graph(dictionary=dictionary\n",
    "                             , corpus=corpus\n",
    "                             , texts=processed_abstract\n",
    "                             , limit=20\n",
    "                             , model= \"lsi\")"
   ]
  },
  {
   "cell_type": "code",
   "execution_count": 31,
   "metadata": {},
   "outputs": [
    {
     "data": {
      "image/png": "[encoded data removed]",
      "text/plain": [
       "<Figure size 432x288 with 1 Axes>"
      ]
     },
     "metadata": {
      "needs_background": "light"
     },
     "output_type": "display_data"
    },
    {
     "name": "stdout",
     "output_type": "stream",
     "text": [
      "CPU times: user 2h 17min 23s, sys: 3min 23s, total: 2h 20min 46s\n",
      "Wall time: 2h 13min 58s\n"
     ]
    }
   ],
   "source": [
    "%%time\n",
    "lmlist, c_v = evaluation_graph (dictionary=dictionary\n",
    "                               , corpus=corpus\n",
    "                               , texts=processed_abstract\n",
    "                               , limit=20\n",
    "                               , model= \"lda\")"
   ]
  },
  {
   "cell_type": "markdown",
   "metadata": {},
   "source": [
    "We see that for LSI model best number of topics seems to be 4. For LDA, as of 4 topics coherence score reaches similar score than the best LSI model and stabilizes, hence we will go for LDA.\n",
    "\n",
    "In LDA evaluation graph, seems that 17 topics is the model with a higher high score reaching over 0.60. However, for simplicity we will take the model with 10 topics which gives one of the best scores and will be easier to understand due to the lower amount of topics."
   ]
  },
  {
   "cell_type": "markdown",
   "metadata": {},
   "source": [
    "Let's display again the 10 topics from our model."
   ]
  },
  {
   "cell_type": "code",
   "execution_count": 32,
   "metadata": {},
   "outputs": [
    {
     "name": "stdout",
     "output_type": "stream",
     "text": [
      "Topic 0:\n",
      "species water areas climate results area data soil populations diversity distribution conditions patterns sites variability region change changes population period \n",
      "\n",
      "Topic 1:\n",
      "brain results activity effects memory test differences effect muscle changes motor time pain subjects neurons stress exercise response age function \n",
      "\n",
      "Topic 2:\n",
      "levels weight body results risk age samples diet obesity children blood resistance groups methods women food population intake strains studies \n",
      "\n",
      "Topic 3:\n",
      "properties surface temperature results energy structure materials phase reaction model electron state formation nanoparticles effect field density measurements process material \n",
      "\n",
      "Topic 4:\n",
      "patients treatment risk years disease methods results cancer cases months conclusions group age therapy diagnosis mortality patient survival surgery rate \n",
      "\n",
      "Topic 5:\n",
      "research students results information knowledge article process development training studies language review group learning data education work literature approach order \n",
      "\n",
      "Topic 6:\n",
      "model data system results time models systems performance energy order approach problem power methods network number algorithm information parameters case \n",
      "\n",
      "Topic 7:\n",
      "cells cell expression protein gene genes activity role proteins levels results mice response activation receptor tissue cancer effects mechanisms development \n",
      "\n",
      "Topic 8:\n",
      "health results countries factors women quality care life sample variables risk data years level impact model relationship age people population \n",
      "\n",
      "Topic 9:\n",
      "water samples compounds concentration concentrations production content results conditions products treatment plant process activity extraction effect plants acid soil oil \n",
      "\n"
     ]
    }
   ],
   "source": [
    "display_topics(ldamodel_10)"
   ]
  },
  {
   "cell_type": "markdown",
   "metadata": {},
   "source": [
    "Lets infer what the topics are going about."
   ]
  },
  {
   "cell_type": "markdown",
   "metadata": {},
   "source": [
    " - Topic 0: Is about social-ecological research. ( Sustainability )\n",
    " - Topic 1: Is about brain and memory studies. ( Neuroscience )\n",
    " - Topic 2: Is about studies related to nutritition and diet and their effects. ( Nutrition )\n",
    " - Topic 3: Is about chemical and physics research. ( Pyshics )\n",
    " - Topic 4: Is about cancer studies on possible treatments. ( Oncology )\n",
    " - Topic 5: Is about countries and system education and development, ( Education and Developmental Science )\n",
    " - Topic 6: Is about data, models , algorithms ( Data Science & Machine Learning )\n",
    " - Topic 7: Is about cell and gene therapies. ( Cell & Genes Studies )\n",
    " - Topic 8: Is about medicine studies in difference groups of the society. ( Global Health & Medicine )\n",
    " - Topic 9: Is about studies related to chemical processes within and related to living organisms. ( Biochemistry )"
   ]
  },
  {
   "cell_type": "markdown",
   "metadata": {},
   "source": [
    "#### Saving model"
   ]
  },
  {
   "cell_type": "code",
   "execution_count": 33,
   "metadata": {},
   "outputs": [],
   "source": [
    "from gensim.test.utils import datapath\n",
    "\n",
    "# Save model.\n",
    "model_file_10 = datapath(\"model_lda_10\")\n",
    "\n",
    "ldamodel_10.save(model_file_10)\n",
    "\n",
    "# Load model\n",
    "# lda = LdaModel.load(temp_file_10)"
   ]
  },
  {
   "cell_type": "markdown",
   "metadata": {},
   "source": [
    "### Assigning the topics created to each of our abstracts"
   ]
  },
  {
   "cell_type": "markdown",
   "metadata": {},
   "source": [
    "Lets test which topic is assigned to one of our abstracts in the dataframe."
   ]
  },
  {
   "cell_type": "code",
   "execution_count": 35,
   "metadata": {},
   "outputs": [
    {
     "data": {
      "text/html": [
       "<div>\n",
       "<style scoped>\n",
       "    .dataframe tbody tr th:only-of-type {\n",
       "        vertical-align: middle;\n",
       "    }\n",
       "\n",
       "    .dataframe tbody tr th {\n",
       "        vertical-align: top;\n",
       "    }\n",
       "\n",
       "    .dataframe thead th {\n",
       "        text-align: right;\n",
       "    }\n",
       "</style>\n",
       "<table border=\"1\" class=\"dataframe\">\n",
       "  <thead>\n",
       "    <tr style=\"text-align: right;\">\n",
       "      <th></th>\n",
       "      <th>Publication Id</th>\n",
       "      <th>Publication Abstract</th>\n",
       "      <th>year</th>\n",
       "    </tr>\n",
       "  </thead>\n",
       "  <tbody>\n",
       "    <tr>\n",
       "      <th>0</th>\n",
       "      <td>1117506301</td>\n",
       "      <td>Four types of calcined MCM-41 silica nanoparti...</td>\n",
       "      <td>2019.0</td>\n",
       "    </tr>\n",
       "    <tr>\n",
       "      <th>1</th>\n",
       "      <td>1117603937</td>\n",
       "      <td>First magnetic characterization of a recently ...</td>\n",
       "      <td>2019.0</td>\n",
       "    </tr>\n",
       "    <tr>\n",
       "      <th>2</th>\n",
       "      <td>1117505850</td>\n",
       "      <td>Metal oxide nanoparticles of different nature ...</td>\n",
       "      <td>2019.0</td>\n",
       "    </tr>\n",
       "    <tr>\n",
       "      <th>3</th>\n",
       "      <td>1120933764</td>\n",
       "      <td>The objective of this study is to identify bot...</td>\n",
       "      <td>2019.0</td>\n",
       "    </tr>\n",
       "    <tr>\n",
       "      <th>4</th>\n",
       "      <td>1117193292</td>\n",
       "      <td>A long-term multi-parameter skill assessment o...</td>\n",
       "      <td>2019.0</td>\n",
       "    </tr>\n",
       "  </tbody>\n",
       "</table>\n",
       "</div>"
      ],
      "text/plain": [
       "   Publication Id                               Publication Abstract    year\n",
       "0      1117506301  Four types of calcined MCM-41 silica nanoparti...  2019.0\n",
       "1      1117603937  First magnetic characterization of a recently ...  2019.0\n",
       "2      1117505850  Metal oxide nanoparticles of different nature ...  2019.0\n",
       "3      1120933764  The objective of this study is to identify bot...  2019.0\n",
       "4      1117193292  A long-term multi-parameter skill assessment o...  2019.0"
      ]
     },
     "execution_count": 35,
     "metadata": {},
     "output_type": "execute_result"
    }
   ],
   "source": [
    "df_abstracts_year.head()"
   ]
  },
  {
   "cell_type": "code",
   "execution_count": 37,
   "metadata": {},
   "outputs": [
    {
     "data": {
      "text/plain": [
       "['First magnetic characterization of a recently developed generation of carbide free bainitic steels, known as Nanobain, has been performed. Stability of its retained austenite at cryogenic temperatures has been studied by means of X-ray diffraction, microscopy, dilatometry and magnetic measurements. Two morphologies for this phase (blocky-type and film-type) appear in a different proportion depending on the chemical composition and the applied thermal treatment. Inhibition of the martensitic transformation, when decreasing the temperature down to -271°C, has been observed in those microstructures with higher proportion of film-type austenite. The paramagnetic state of austenite at room temperature seems to lead to different magnetic behaviors (ferromagnetic, antiferromagnetic) at cryogenic temperatures (TC or TN being around -23°C in all the studied samples), depending on the proportion of such morphological features. Furthermore, irreversibility with temperature on the evolution of such magnetic behaviors has been observed for all the studied bainitic structures and is proposed to be due to a magnetic proximity effect.']"
      ]
     },
     "execution_count": 37,
     "metadata": {},
     "output_type": "execute_result"
    }
   ],
   "source": [
    "unseen_abstract= df_abstracts_year.loc[df_abstracts_year['Publication Id'] == 1117603937]\n",
    "new_abstract = unseen_abstract['Publication Abstract'].tolist()\n",
    "new_abstract"
   ]
  },
  {
   "cell_type": "code",
   "execution_count": 39,
   "metadata": {},
   "outputs": [
    {
     "name": "stdout",
     "output_type": "stream",
     "text": [
      "[(3, 0.8290606), (9, 0.14930247)]\n"
     ]
    }
   ],
   "source": [
    "new_abstract = str(new_abstract)\n",
    "new_abstract = cleaner(new_abstract)\n",
    "new_abs_bow = dictionary.doc2bow(new_abstract)\n",
    "##print(new_doc_bow)\n",
    "print(ldamodel_10.get_document_topics(new_abs_bow))"
   ]
  },
  {
   "cell_type": "markdown",
   "metadata": {},
   "source": [
    "Our model assigned topic 3 which is about Pyshics, looking at the abstract content seems to be a good assignment!"
   ]
  },
  {
   "cell_type": "markdown",
   "metadata": {},
   "source": [
    "We will now iterate over our original dataframe to assing the topic with the highest score to each abstract. This will take a few hours to complete.."
   ]
  },
  {
   "cell_type": "code",
   "execution_count": 40,
   "metadata": {},
   "outputs": [],
   "source": [
    "for index, row in df_abstracts_year.iterrows():\n",
    "        abstract_to_list = row['Publication Abstract']\n",
    "        process_abstr = cleaner(abstract_to_list)\n",
    "        new_abstract_bow = dictionary.doc2bow(process_abstr)\n",
    "        topic_scores = (ldamodel_10.get_document_topics(new_abstract_bow))\n",
    "        max_topic_score = max(topic_scores,key=lambda item:item[1])[0]\n",
    "        df_abstracts_year.loc[index,'Assigned Topic'] = max_topic_score        "
   ]
  },
  {
   "cell_type": "code",
   "execution_count": 41,
   "metadata": {},
   "outputs": [
    {
     "data": {
      "text/html": [
       "<div>\n",
       "<style scoped>\n",
       "    .dataframe tbody tr th:only-of-type {\n",
       "        vertical-align: middle;\n",
       "    }\n",
       "\n",
       "    .dataframe tbody tr th {\n",
       "        vertical-align: top;\n",
       "    }\n",
       "\n",
       "    .dataframe thead th {\n",
       "        text-align: right;\n",
       "    }\n",
       "</style>\n",
       "<table border=\"1\" class=\"dataframe\">\n",
       "  <thead>\n",
       "    <tr style=\"text-align: right;\">\n",
       "      <th></th>\n",
       "      <th>Publication Id</th>\n",
       "      <th>Publication Abstract</th>\n",
       "      <th>year</th>\n",
       "      <th>Assigned Topic</th>\n",
       "    </tr>\n",
       "  </thead>\n",
       "  <tbody>\n",
       "    <tr>\n",
       "      <th>0</th>\n",
       "      <td>1117506301</td>\n",
       "      <td>Four types of calcined MCM-41 silica nanoparti...</td>\n",
       "      <td>2019.0</td>\n",
       "      <td>3.0</td>\n",
       "    </tr>\n",
       "    <tr>\n",
       "      <th>1</th>\n",
       "      <td>1117603937</td>\n",
       "      <td>First magnetic characterization of a recently ...</td>\n",
       "      <td>2019.0</td>\n",
       "      <td>3.0</td>\n",
       "    </tr>\n",
       "    <tr>\n",
       "      <th>2</th>\n",
       "      <td>1117505850</td>\n",
       "      <td>Metal oxide nanoparticles of different nature ...</td>\n",
       "      <td>2019.0</td>\n",
       "      <td>3.0</td>\n",
       "    </tr>\n",
       "    <tr>\n",
       "      <th>3</th>\n",
       "      <td>1120933764</td>\n",
       "      <td>The objective of this study is to identify bot...</td>\n",
       "      <td>2019.0</td>\n",
       "      <td>8.0</td>\n",
       "    </tr>\n",
       "    <tr>\n",
       "      <th>4</th>\n",
       "      <td>1117193292</td>\n",
       "      <td>A long-term multi-parameter skill assessment o...</td>\n",
       "      <td>2019.0</td>\n",
       "      <td>6.0</td>\n",
       "    </tr>\n",
       "  </tbody>\n",
       "</table>\n",
       "</div>"
      ],
      "text/plain": [
       "   Publication Id                               Publication Abstract    year  \\\n",
       "0      1117506301  Four types of calcined MCM-41 silica nanoparti...  2019.0   \n",
       "1      1117603937  First magnetic characterization of a recently ...  2019.0   \n",
       "2      1117505850  Metal oxide nanoparticles of different nature ...  2019.0   \n",
       "3      1120933764  The objective of this study is to identify bot...  2019.0   \n",
       "4      1117193292  A long-term multi-parameter skill assessment o...  2019.0   \n",
       "\n",
       "   Assigned Topic  \n",
       "0             3.0  \n",
       "1             3.0  \n",
       "2             3.0  \n",
       "3             8.0  \n",
       "4             6.0  "
      ]
     },
     "execution_count": 41,
     "metadata": {},
     "output_type": "execute_result"
    }
   ],
   "source": [
    "df_abstracts_year.head()"
   ]
  },
  {
   "cell_type": "code",
   "execution_count": 42,
   "metadata": {},
   "outputs": [
    {
     "data": {
      "text/plain": [
       "319821"
      ]
     },
     "execution_count": 42,
     "metadata": {},
     "output_type": "execute_result"
    }
   ],
   "source": [
    "len(df_abstracts_year)"
   ]
  },
  {
   "cell_type": "markdown",
   "metadata": {},
   "source": [
    "We have got our dataframe with the topics assigned. Lets copy it to a csv file"
   ]
  },
  {
   "cell_type": "code",
   "execution_count": 43,
   "metadata": {},
   "outputs": [],
   "source": [
    "df_abstracts_year.to_csv(\"./papers_abstracts_year_topics.csv\", sep=',', index=False )"
   ]
  }
 ],
 "metadata": {
  "kernelspec": {
   "display_name": "Python 3",
   "language": "python",
   "name": "python3"
  },
  "language_info": {
   "codemirror_mode": {
    "name": "ipython",
    "version": 3
   },
   "file_extension": ".py",
   "mimetype": "text/x-python",
   "name": "python",
   "nbconvert_exporter": "python",
   "pygments_lexer": "ipython3",
   "version": "3.7.3"
  }
 },
 "nbformat": 4,
 "nbformat_minor": 2
}
