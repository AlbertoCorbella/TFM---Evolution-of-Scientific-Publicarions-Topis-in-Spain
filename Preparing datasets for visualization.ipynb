{
 "cells": [
  {
   "cell_type": "markdown",
   "metadata": {},
   "source": [
    "## Preparing datasets for visualization"
   ]
  },
  {
   "cell_type": "markdown",
   "metadata": {},
   "source": [
    "We want to build a visualization in Tableau that would show a timeline with the number of papers in each topic per year, some big numbers with the total counts and a word cloud showing the most important words for each topic.\n",
    "\n",
    "In order to do so, we are going to create 2 file sources:\n",
    "\n",
    " - In the first one we will take our csv created with all our paper abstracts and the assigned topic identified through our LDA model. As we dont need the full abstract take, this file will be just a subset of the original file with all the columns excepting the one with the abstract text. This will serve us to create the timeline and the big numbers.\n",
    " \n",
    " - In the second file we will have the topic assigned and the top 10 words in each one by their weights in the distribution. This is going to be the source for the word cloud viz."
   ]
  },
  {
   "cell_type": "markdown",
   "metadata": {},
   "source": [
    "Lets start with the first file."
   ]
  },
  {
   "cell_type": "code",
   "execution_count": 23,
   "metadata": {},
   "outputs": [],
   "source": [
    "import pandas as pd\n",
    "from gensim.test.utils import datapath\n",
    "from gensim.models import LdaModel\n",
    "import re"
   ]
  },
  {
   "cell_type": "code",
   "execution_count": 13,
   "metadata": {},
   "outputs": [],
   "source": [
    "df_abstracts_topics = pd.read_csv(\"./papers_abstracts_year_topics.csv\")"
   ]
  },
  {
   "cell_type": "code",
   "execution_count": 14,
   "metadata": {},
   "outputs": [
    {
     "data": {
      "text/html": [
       "<div>\n",
       "<style scoped>\n",
       "    .dataframe tbody tr th:only-of-type {\n",
       "        vertical-align: middle;\n",
       "    }\n",
       "\n",
       "    .dataframe tbody tr th {\n",
       "        vertical-align: top;\n",
       "    }\n",
       "\n",
       "    .dataframe thead th {\n",
       "        text-align: right;\n",
       "    }\n",
       "</style>\n",
       "<table border=\"1\" class=\"dataframe\">\n",
       "  <thead>\n",
       "    <tr style=\"text-align: right;\">\n",
       "      <th></th>\n",
       "      <th>Publication Id</th>\n",
       "      <th>Publication Abstract</th>\n",
       "      <th>year</th>\n",
       "      <th>Assigned Topic</th>\n",
       "    </tr>\n",
       "  </thead>\n",
       "  <tbody>\n",
       "    <tr>\n",
       "      <th>0</th>\n",
       "      <td>1117506301</td>\n",
       "      <td>Four types of calcined MCM-41 silica nanoparti...</td>\n",
       "      <td>2019.0</td>\n",
       "      <td>3.0</td>\n",
       "    </tr>\n",
       "    <tr>\n",
       "      <th>1</th>\n",
       "      <td>1117603937</td>\n",
       "      <td>First magnetic characterization of a recently ...</td>\n",
       "      <td>2019.0</td>\n",
       "      <td>3.0</td>\n",
       "    </tr>\n",
       "    <tr>\n",
       "      <th>2</th>\n",
       "      <td>1117505850</td>\n",
       "      <td>Metal oxide nanoparticles of different nature ...</td>\n",
       "      <td>2019.0</td>\n",
       "      <td>3.0</td>\n",
       "    </tr>\n",
       "    <tr>\n",
       "      <th>3</th>\n",
       "      <td>1120933764</td>\n",
       "      <td>The objective of this study is to identify bot...</td>\n",
       "      <td>2019.0</td>\n",
       "      <td>8.0</td>\n",
       "    </tr>\n",
       "    <tr>\n",
       "      <th>4</th>\n",
       "      <td>1117193292</td>\n",
       "      <td>A long-term multi-parameter skill assessment o...</td>\n",
       "      <td>2019.0</td>\n",
       "      <td>6.0</td>\n",
       "    </tr>\n",
       "  </tbody>\n",
       "</table>\n",
       "</div>"
      ],
      "text/plain": [
       "   Publication Id                               Publication Abstract    year  \\\n",
       "0      1117506301  Four types of calcined MCM-41 silica nanoparti...  2019.0   \n",
       "1      1117603937  First magnetic characterization of a recently ...  2019.0   \n",
       "2      1117505850  Metal oxide nanoparticles of different nature ...  2019.0   \n",
       "3      1120933764  The objective of this study is to identify bot...  2019.0   \n",
       "4      1117193292  A long-term multi-parameter skill assessment o...  2019.0   \n",
       "\n",
       "   Assigned Topic  \n",
       "0             3.0  \n",
       "1             3.0  \n",
       "2             3.0  \n",
       "3             8.0  \n",
       "4             6.0  "
      ]
     },
     "execution_count": 14,
     "metadata": {},
     "output_type": "execute_result"
    }
   ],
   "source": [
    "df_abstracts_topics.head()"
   ]
  },
  {
   "cell_type": "code",
   "execution_count": 15,
   "metadata": {},
   "outputs": [
    {
     "data": {
      "text/plain": [
       "Index(['Publication Id', 'Publication Abstract', 'year', 'Assigned Topic'], dtype='object')"
      ]
     },
     "execution_count": 15,
     "metadata": {},
     "output_type": "execute_result"
    }
   ],
   "source": [
    "df_abstracts_topics.columns"
   ]
  },
  {
   "cell_type": "markdown",
   "metadata": {},
   "source": [
    "Lets create the dataframe without the full abstract text and save it to a csv file."
   ]
  },
  {
   "cell_type": "code",
   "execution_count": 16,
   "metadata": {},
   "outputs": [],
   "source": [
    "df_abstracts_topics_viz = df_abstracts_topics[['Publication Id', 'year', 'Assigned Topic']]"
   ]
  },
  {
   "cell_type": "code",
   "execution_count": 19,
   "metadata": {},
   "outputs": [
    {
     "data": {
      "text/html": [
       "<div>\n",
       "<style scoped>\n",
       "    .dataframe tbody tr th:only-of-type {\n",
       "        vertical-align: middle;\n",
       "    }\n",
       "\n",
       "    .dataframe tbody tr th {\n",
       "        vertical-align: top;\n",
       "    }\n",
       "\n",
       "    .dataframe thead th {\n",
       "        text-align: right;\n",
       "    }\n",
       "</style>\n",
       "<table border=\"1\" class=\"dataframe\">\n",
       "  <thead>\n",
       "    <tr style=\"text-align: right;\">\n",
       "      <th></th>\n",
       "      <th>Publication Id</th>\n",
       "      <th>year</th>\n",
       "      <th>Assigned Topic</th>\n",
       "    </tr>\n",
       "  </thead>\n",
       "  <tbody>\n",
       "    <tr>\n",
       "      <th>0</th>\n",
       "      <td>1117506301</td>\n",
       "      <td>2019.0</td>\n",
       "      <td>3.0</td>\n",
       "    </tr>\n",
       "    <tr>\n",
       "      <th>1</th>\n",
       "      <td>1117603937</td>\n",
       "      <td>2019.0</td>\n",
       "      <td>3.0</td>\n",
       "    </tr>\n",
       "    <tr>\n",
       "      <th>2</th>\n",
       "      <td>1117505850</td>\n",
       "      <td>2019.0</td>\n",
       "      <td>3.0</td>\n",
       "    </tr>\n",
       "    <tr>\n",
       "      <th>3</th>\n",
       "      <td>1120933764</td>\n",
       "      <td>2019.0</td>\n",
       "      <td>8.0</td>\n",
       "    </tr>\n",
       "    <tr>\n",
       "      <th>4</th>\n",
       "      <td>1117193292</td>\n",
       "      <td>2019.0</td>\n",
       "      <td>6.0</td>\n",
       "    </tr>\n",
       "  </tbody>\n",
       "</table>\n",
       "</div>"
      ],
      "text/plain": [
       "   Publication Id    year  Assigned Topic\n",
       "0      1117506301  2019.0             3.0\n",
       "1      1117603937  2019.0             3.0\n",
       "2      1117505850  2019.0             3.0\n",
       "3      1120933764  2019.0             8.0\n",
       "4      1117193292  2019.0             6.0"
      ]
     },
     "execution_count": 19,
     "metadata": {},
     "output_type": "execute_result"
    }
   ],
   "source": [
    "df_abstracts_topics_viz.head()"
   ]
  },
  {
   "cell_type": "code",
   "execution_count": 18,
   "metadata": {},
   "outputs": [],
   "source": [
    "df_abstracts_topics_viz.to_csv(\"./papers_year_topics_viz.csv\", sep=',', index=False )"
   ]
  },
  {
   "cell_type": "markdown",
   "metadata": {},
   "source": [
    "Lets now create our second file that will feed the word cloud."
   ]
  },
  {
   "cell_type": "markdown",
   "metadata": {},
   "source": [
    "First we need to load our LDA model with 10 topics previously saved when generating it"
   ]
  },
  {
   "cell_type": "code",
   "execution_count": 20,
   "metadata": {},
   "outputs": [],
   "source": [
    "model_file_10 = datapath(\"model_lda_10\")\n",
    "# Load model\n",
    "lda = LdaModel.load(model_file_10)"
   ]
  },
  {
   "cell_type": "markdown",
   "metadata": {},
   "source": [
    "We are going to need to create a dataframe in a form of 3 columns containing:\n",
    "\n",
    " - First column : Assigned Topic. With this we will be able to later in Tableau, make a relationship between the first file and this one, so we can create a dynamic dashboard.\n",
    " \n",
    " - Second column:  Top 10 words for each topic.\n",
    " \n",
    " - Third column:  Weight of distribution of each word in each topic. So then we can play with this weights to assigned size/color to the word in the word cloud visualization."
   ]
  },
  {
   "cell_type": "markdown",
   "metadata": {},
   "source": [
    "In order to create a dataframe with these columns we can use the previous function for displaying the topics of the model, we are going to tweak it a bit to get an output that makes the creation of the dataframe easier, so we can take the entire output lists of words and weigths for each topic and copy/paste as the entries of our dataframe."
   ]
  },
  {
   "cell_type": "code",
   "execution_count": 34,
   "metadata": {},
   "outputs": [],
   "source": [
    "def display_topics(model, model_type=\"lda\"):\n",
    "    for topic_idx, topic in enumerate(model.print_topics( num_words=20)):\n",
    "        print (topic_idx)\n",
    "        print(re.findall( r'\\d+\\.\\d+', topic[1]))\n",
    "        print (re.findall( r'\\\"(.[^\"]+).?', topic[1]))"
   ]
  },
  {
   "cell_type": "code",
   "execution_count": 35,
   "metadata": {},
   "outputs": [
    {
     "name": "stdout",
     "output_type": "stream",
     "text": [
      "0\n",
      "['0.030', '0.010', '0.009', '0.008', '0.008', '0.007', '0.007', '0.007', '0.007', '0.007', '0.007', '0.007', '0.006', '0.006', '0.005', '0.005', '0.005', '0.005', '0.005', '0.005']\n",
      "['species', 'water', 'areas', 'climate', 'results', 'area', 'data', 'soil', 'populations', 'diversity', 'distribution', 'conditions', 'patterns', 'sites', 'variability', 'region', 'change', 'changes', 'population', 'period']\n",
      "1\n",
      "['0.018', '0.012', '0.009', '0.009', '0.007', '0.007', '0.007', '0.006', '0.006', '0.006', '0.006', '0.006', '0.006', '0.006', '0.005', '0.005', '0.005', '0.005', '0.005', '0.005']\n",
      "['brain', 'results', 'activity', 'effects', 'memory', 'test', 'differences', 'effect', 'muscle', 'changes', 'motor', 'time', 'pain', 'subjects', 'neurons', 'stress', 'exercise', 'response', 'age', 'function']\n",
      "2\n",
      "['0.016', '0.011', '0.011', '0.010', '0.010', '0.009', '0.009', '0.008', '0.008', '0.008', '0.008', '0.007', '0.007', '0.007', '0.007', '0.006', '0.006', '0.006', '0.006', '0.006']\n",
      "['levels', 'weight', 'body', 'results', 'risk', 'age', 'samples', 'diet', 'obesity', 'children', 'blood', 'resistance', 'groups', 'methods', 'women', 'food', 'population', 'intake', 'strains', 'studies']\n",
      "3\n",
      "['0.012', '0.010', '0.010', '0.008', '0.007', '0.007', '0.007', '0.007', '0.006', '0.006', '0.005', '0.005', '0.005', '0.005', '0.005', '0.005', '0.005', '0.004', '0.004', '0.004']\n",
      "['properties', 'surface', 'temperature', 'results', 'energy', 'structure', 'materials', 'phase', 'reaction', 'model', 'electron', 'state', 'formation', 'nanoparticles', 'effect', 'field', 'density', 'measurements', 'process', 'material']\n",
      "4\n",
      "['0.077', '0.024', '0.015', '0.012', '0.012', '0.011', '0.011', '0.009', '0.009', '0.009', '0.008', '0.008', '0.008', '0.008', '0.008', '0.007', '0.006', '0.006', '0.006', '0.005']\n",
      "['patients', 'treatment', 'risk', 'years', 'disease', 'methods', 'results', 'cancer', 'cases', 'months', 'conclusions', 'group', 'age', 'therapy', 'diagnosis', 'mortality', 'patient', 'survival', 'surgery', 'rate']\n",
      "5\n",
      "['0.015', '0.011', '0.009', '0.009', '0.009', '0.008', '0.007', '0.007', '0.007', '0.006', '0.006', '0.006', '0.005', '0.005', '0.005', '0.005', '0.005', '0.005', '0.005', '0.004']\n",
      "['research', 'students', 'results', 'information', 'knowledge', 'article', 'process', 'development', 'training', 'studies', 'language', 'review', 'group', 'learning', 'data', 'education', 'work', 'literature', 'approach', 'order']\n",
      "6\n",
      "['0.019', '0.014', '0.014', '0.013', '0.011', '0.010', '0.009', '0.008', '0.008', '0.008', '0.008', '0.007', '0.007', '0.007', '0.006', '0.006', '0.006', '0.005', '0.005', '0.005']\n",
      "['model', 'data', 'system', 'results', 'time', 'models', 'systems', 'performance', 'energy', 'order', 'approach', 'problem', 'power', 'methods', 'network', 'number', 'algorithm', 'information', 'parameters', 'case']\n",
      "7\n",
      "['0.029', '0.028', '0.022', '0.017', '0.011', '0.010', '0.010', '0.009', '0.009', '0.008', '0.007', '0.007', '0.007', '0.006', '0.006', '0.006', '0.006', '0.006', '0.006', '0.005']\n",
      "['cells', 'cell', 'expression', 'protein', 'gene', 'genes', 'activity', 'role', 'proteins', 'levels', 'results', 'mice', 'response', 'activation', 'receptor', 'tissue', 'cancer', 'effects', 'mechanisms', 'development']\n",
      "8\n",
      "['0.017', '0.014', '0.009', '0.009', '0.008', '0.008', '0.007', '0.007', '0.007', '0.007', '0.007', '0.007', '0.007', '0.006', '0.006', '0.006', '0.006', '0.006', '0.005', '0.005']\n",
      "['health', 'results', 'countries', 'factors', 'women', 'quality', 'care', 'life', 'sample', 'variables', 'risk', 'data', 'years', 'level', 'impact', 'model', 'relationship', 'age', 'people', 'population']\n",
      "9\n",
      "['0.016', '0.013', '0.011', '0.011', '0.010', '0.009', '0.009', '0.009', '0.009', '0.008', '0.008', '0.007', '0.007', '0.007', '0.007', '0.006', '0.006', '0.006', '0.006', '0.006']\n",
      "['water', 'samples', 'compounds', 'concentration', 'concentrations', 'production', 'content', 'results', 'conditions', 'products', 'treatment', 'plant', 'process', 'activity', 'extraction', 'effect', 'plants', 'acid', 'soil', 'oil']\n"
     ]
    }
   ],
   "source": [
    "topics = display_topics(lda)"
   ]
  },
  {
   "cell_type": "markdown",
   "metadata": {},
   "source": [
    "Now we can just take the outputs of our function and type them as the entries of our dataframe."
   ]
  },
  {
   "cell_type": "code",
   "execution_count": 36,
   "metadata": {},
   "outputs": [],
   "source": [
    "### create dataframe for word cloud\n",
    "\n",
    "df_word_cloud_viz = pd.DataFrame(\n",
    "      {'Assigned Topic' : [0]*20 + [1]*20 + [2]*20 + [3]*20 + [4]*20 + [5]*20 + [6]*20 + [7]*20 + [8]*20 + [9]*20\n",
    "      ,'Word' : ['species', 'water', 'areas', 'climate', 'results', 'area', 'data', 'soil', 'populations', 'diversity', 'distribution', 'conditions', 'patterns', 'sites', 'variability', 'region', 'change', 'changes', 'population', 'period' \n",
    "                ,'brain', 'results', 'activity', 'effects', 'memory', 'test', 'differences', 'effect', 'muscle', 'changes', 'motor', 'time', 'pain', 'subjects', 'neurons', 'stress', 'exercise', 'response', 'age', 'function'\n",
    "                ,'levels', 'weight', 'body', 'results', 'risk', 'age', 'samples', 'diet', 'obesity', 'children', 'blood', 'resistance', 'groups', 'methods', 'women', 'food', 'population', 'intake', 'strains', 'studies'\n",
    "                ,'properties', 'surface', 'temperature', 'results', 'energy', 'structure', 'materials', 'phase', 'reaction', 'model', 'electron', 'state', 'formation', 'nanoparticles', 'effect', 'field', 'density', 'measurements', 'process', 'material'\n",
    "                ,'patients', 'treatment', 'risk', 'years', 'disease', 'methods', 'results', 'cancer', 'cases', 'months', 'conclusions', 'group', 'age', 'therapy', 'diagnosis', 'mortality', 'patient', 'survival', 'surgery', 'rate'\n",
    "                ,'research', 'students', 'results', 'information', 'knowledge', 'article', 'process', 'development', 'training', 'studies', 'language', 'review', 'group', 'learning', 'data', 'education', 'work', 'literature', 'approach', 'order'\n",
    "                ,'model', 'data', 'system', 'results', 'time', 'models', 'systems', 'performance', 'energy', 'order', 'approach', 'problem', 'power', 'methods', 'network', 'number', 'algorithm', 'information', 'parameters', 'case'\n",
    "                ,'cells', 'cell', 'expression', 'protein', 'gene', 'genes', 'activity', 'role', 'proteins', 'levels', 'results', 'mice', 'response', 'activation', 'receptor', 'tissue', 'cancer', 'effects', 'mechanisms', 'development'\n",
    "                ,'health', 'results', 'countries', 'factors', 'women', 'quality', 'care', 'life', 'sample', 'variables', 'risk', 'data', 'years', 'level', 'impact', 'model', 'relationship', 'age', 'people', 'population'\n",
    "                ,'water', 'samples', 'compounds', 'concentration', 'concentrations', 'production', 'content', 'results', 'conditions', 'products', 'treatment', 'plant', 'process', 'activity', 'extraction', 'effect', 'plants', 'acid', 'soil', 'oil'\n",
    "                ]\n",
    "      ,'Score' : ['0.030', '0.010', '0.009', '0.008', '0.008', '0.007', '0.007', '0.007', '0.007', '0.007', '0.007', '0.007', '0.006', '0.006', '0.005', '0.005', '0.005', '0.005', '0.005', '0.005'\n",
    "                 ,'0.018', '0.012', '0.009', '0.009', '0.007', '0.007', '0.007', '0.006', '0.006', '0.006', '0.006', '0.006', '0.006', '0.006', '0.005', '0.005', '0.005', '0.005', '0.005', '0.005'\n",
    "                 ,'0.016', '0.011', '0.011', '0.010', '0.010', '0.009', '0.009', '0.008', '0.008', '0.008', '0.008', '0.007', '0.007', '0.007', '0.007', '0.006', '0.006', '0.006', '0.006', '0.006'\n",
    "                 ,'0.012', '0.010', '0.010', '0.008', '0.007', '0.007', '0.007', '0.007', '0.006', '0.006', '0.005', '0.005', '0.005', '0.005', '0.005', '0.005', '0.005', '0.004', '0.004', '0.004'\n",
    "                 ,'0.077', '0.024', '0.015', '0.012', '0.012', '0.011', '0.011', '0.009', '0.009', '0.009', '0.008', '0.008', '0.008', '0.008', '0.008', '0.007', '0.006', '0.006', '0.006', '0.005'\n",
    "                 ,'0.015', '0.011', '0.009', '0.009', '0.009', '0.008', '0.007', '0.007', '0.007', '0.006', '0.006', '0.006', '0.005', '0.005', '0.005', '0.005', '0.005', '0.005', '0.005', '0.004'\n",
    "                 ,'0.019', '0.014', '0.014', '0.013', '0.011', '0.010', '0.009', '0.008', '0.008', '0.008', '0.008', '0.007', '0.007', '0.007', '0.006', '0.006', '0.006', '0.005', '0.005', '0.005'\n",
    "                 ,'0.029', '0.028', '0.022', '0.017', '0.011', '0.010', '0.010', '0.009', '0.009', '0.008', '0.007', '0.007', '0.007', '0.006', '0.006', '0.006', '0.006', '0.006', '0.006', '0.005'\n",
    "                 ,'0.017', '0.014', '0.009', '0.009', '0.008', '0.008', '0.007', '0.007', '0.007', '0.007', '0.007', '0.007', '0.007', '0.006', '0.006', '0.006', '0.006', '0.006', '0.005', '0.005'\n",
    "                 ,'0.016', '0.013', '0.011', '0.011', '0.010', '0.009', '0.009', '0.009', '0.009', '0.008', '0.008', '0.007', '0.007', '0.007', '0.007', '0.006', '0.006', '0.006', '0.006', '0.006'\n",
    "                 ]})"
   ]
  },
  {
   "cell_type": "code",
   "execution_count": 37,
   "metadata": {},
   "outputs": [
    {
     "data": {
      "text/html": [
       "<div>\n",
       "<style scoped>\n",
       "    .dataframe tbody tr th:only-of-type {\n",
       "        vertical-align: middle;\n",
       "    }\n",
       "\n",
       "    .dataframe tbody tr th {\n",
       "        vertical-align: top;\n",
       "    }\n",
       "\n",
       "    .dataframe thead th {\n",
       "        text-align: right;\n",
       "    }\n",
       "</style>\n",
       "<table border=\"1\" class=\"dataframe\">\n",
       "  <thead>\n",
       "    <tr style=\"text-align: right;\">\n",
       "      <th></th>\n",
       "      <th>Assigned Topic</th>\n",
       "      <th>Word</th>\n",
       "      <th>Score</th>\n",
       "    </tr>\n",
       "  </thead>\n",
       "  <tbody>\n",
       "    <tr>\n",
       "      <th>0</th>\n",
       "      <td>0</td>\n",
       "      <td>species</td>\n",
       "      <td>0.030</td>\n",
       "    </tr>\n",
       "    <tr>\n",
       "      <th>1</th>\n",
       "      <td>0</td>\n",
       "      <td>water</td>\n",
       "      <td>0.010</td>\n",
       "    </tr>\n",
       "    <tr>\n",
       "      <th>2</th>\n",
       "      <td>0</td>\n",
       "      <td>areas</td>\n",
       "      <td>0.009</td>\n",
       "    </tr>\n",
       "    <tr>\n",
       "      <th>3</th>\n",
       "      <td>0</td>\n",
       "      <td>climate</td>\n",
       "      <td>0.008</td>\n",
       "    </tr>\n",
       "    <tr>\n",
       "      <th>4</th>\n",
       "      <td>0</td>\n",
       "      <td>results</td>\n",
       "      <td>0.008</td>\n",
       "    </tr>\n",
       "    <tr>\n",
       "      <th>...</th>\n",
       "      <td>...</td>\n",
       "      <td>...</td>\n",
       "      <td>...</td>\n",
       "    </tr>\n",
       "    <tr>\n",
       "      <th>95</th>\n",
       "      <td>4</td>\n",
       "      <td>mortality</td>\n",
       "      <td>0.007</td>\n",
       "    </tr>\n",
       "    <tr>\n",
       "      <th>96</th>\n",
       "      <td>4</td>\n",
       "      <td>patient</td>\n",
       "      <td>0.006</td>\n",
       "    </tr>\n",
       "    <tr>\n",
       "      <th>97</th>\n",
       "      <td>4</td>\n",
       "      <td>survival</td>\n",
       "      <td>0.006</td>\n",
       "    </tr>\n",
       "    <tr>\n",
       "      <th>98</th>\n",
       "      <td>4</td>\n",
       "      <td>surgery</td>\n",
       "      <td>0.006</td>\n",
       "    </tr>\n",
       "    <tr>\n",
       "      <th>99</th>\n",
       "      <td>4</td>\n",
       "      <td>rate</td>\n",
       "      <td>0.005</td>\n",
       "    </tr>\n",
       "  </tbody>\n",
       "</table>\n",
       "<p>100 rows × 3 columns</p>\n",
       "</div>"
      ],
      "text/plain": [
       "    Assigned Topic       Word  Score\n",
       "0                0    species  0.030\n",
       "1                0      water  0.010\n",
       "2                0      areas  0.009\n",
       "3                0    climate  0.008\n",
       "4                0    results  0.008\n",
       "..             ...        ...    ...\n",
       "95               4  mortality  0.007\n",
       "96               4    patient  0.006\n",
       "97               4   survival  0.006\n",
       "98               4    surgery  0.006\n",
       "99               4       rate  0.005\n",
       "\n",
       "[100 rows x 3 columns]"
      ]
     },
     "execution_count": 37,
     "metadata": {},
     "output_type": "execute_result"
    }
   ],
   "source": [
    "df_word_cloud_viz.head(100)"
   ]
  },
  {
   "cell_type": "markdown",
   "metadata": {},
   "source": [
    "Lets save it to a csv file."
   ]
  },
  {
   "cell_type": "code",
   "execution_count": 38,
   "metadata": {},
   "outputs": [],
   "source": [
    "df_word_cloud_viz.to_csv(\"./data_frame_word_cloud_viz.csv\", sep=',', index=False )"
   ]
  }
 ],
 "metadata": {
  "kernelspec": {
   "display_name": "Python 3",
   "language": "python",
   "name": "python3"
  },
  "language_info": {
   "codemirror_mode": {
    "name": "ipython",
    "version": 3
   },
   "file_extension": ".py",
   "mimetype": "text/x-python",
   "name": "python",
   "nbconvert_exporter": "python",
   "pygments_lexer": "ipython3",
   "version": "3.7.3"
  }
 },
 "nbformat": 4,
 "nbformat_minor": 2
}
